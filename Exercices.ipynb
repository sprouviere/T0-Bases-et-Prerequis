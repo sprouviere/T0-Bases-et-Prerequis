{
 "cells": [
  {
   "cell_type": "markdown",
   "metadata": {},
   "source": [
    "<h1 style=\"color:teal;\">Exercice sur les bases de Python</h1><br>\n",
    "Pour ceux qui ont des problèmes pour faire ces exercices, <b>il est utile de relire</b> les TP1, TP2 et TP3.<br>\n"
   ]
  },
  {
   "cell_type": "markdown",
   "metadata": {},
   "source": [
    "<h3><u>Exercice 1</u></h3><br>\n",
    "Dans la cellule suivante, construire un algorithme qui doit demander à l&apos;utilisateur de rentrer son prénom (utiliser la fonction <b>input</b>). <br>\n",
    "L&apos;algorithme doit ensuite afficher la phrase suivante : \"bonjour -prénom- , comment ça va ? \" (utiliser la fonction <b>print</b>)."
   ]
  },
  {
   "cell_type": "code",
   "execution_count": null,
   "metadata": {},
   "outputs": [],
   "source": []
  },
  {
   "cell_type": "markdown",
   "metadata": {},
   "source": [
    "<h3><u>Exercice 2</u></h3><br>\n",
    "Dans la cellule suivante, construire un algorithme qui doit demander à l&apos;utilisateur de rentrer le prix d&apos;un article ainsi que le nombre d&apos;articles achetés (utiliser la fonction <b>float</b> ou <b>int</b>).<br>\n",
    "L&apos;algorithme doit ensuite calculer et afficher le prix total de tous ces articles (ne pas oublier le <b>*</b> pour le produit)."
   ]
  },
  {
   "cell_type": "code",
   "execution_count": null,
   "metadata": {},
   "outputs": [],
   "source": []
  },
  {
   "cell_type": "markdown",
   "metadata": {},
   "source": [
    "<h3><u>Exercice 3</u></h3><br>\n",
    "Dans la cellule suivante, construire un algorithme qui doit demander à l&apos;utilisateur de rentrer le nombre d'élèves et le nombre de filles d&apos;une classe.<br>\n",
    "L&apos;algorithme doit ensuite calculer et afficher le pourcentage de filles dans la classe."
   ]
  },
  {
   "cell_type": "code",
   "execution_count": null,
   "metadata": {},
   "outputs": [],
   "source": []
  },
  {
   "cell_type": "markdown",
   "metadata": {},
   "source": [
    "<h3><u>Exercice 4</u></h3><br>\n",
    "Dans la cellule suivante, construire un algorithme qui doit demander à l&apos;utilisateur de rentrer trois notes.<br>\n",
    "L&apos;algorithme doit ensuite calculer et afficher la moyenne de ces trois notes."
   ]
  },
  {
   "cell_type": "code",
   "execution_count": null,
   "metadata": {},
   "outputs": [],
   "source": []
  },
  {
   "cell_type": "markdown",
   "metadata": {},
   "source": [
    "<h3><u>Exercice 5</u></h3><br>\n",
    "Dans la cellule suivante, construire un algorithme qui doit demander à l&apos;utilisateur de rentrer deux notes et les deux coefficients de ces notes (il y a donc quatre variables : deux notes et deux coefficients).<br>\n",
    "L&apos;algorithme doit ensuite calculer et afficher la moyenne de ces deux notes coefficientées."
   ]
  },
  {
   "cell_type": "code",
   "execution_count": null,
   "metadata": {},
   "outputs": [],
   "source": []
  }
 ],
 "metadata": {
  "kernelspec": {
   "display_name": "Python 3 (ipykernel)",
   "language": "python",
   "name": "python3"
  },
  "language_info": {
   "codemirror_mode": {
    "name": "ipython",
    "version": 3
   },
   "file_extension": ".py",
   "mimetype": "text/x-python",
   "name": "python",
   "nbconvert_exporter": "python",
   "pygments_lexer": "ipython3",
   "version": "3.10.6"
  }
 },
 "nbformat": 4,
 "nbformat_minor": 4
}
