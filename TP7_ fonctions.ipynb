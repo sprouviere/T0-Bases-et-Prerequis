{
 "cells": [
  {
   "cell_type": "markdown",
   "metadata": {},
   "source": [
    "<h1 style=\"color:teal;\">Découverte des fonctions en algorithmique</h1>"
   ]
  },
  {
   "cell_type": "markdown",
   "metadata": {},
   "source": [
    "Une fonction est un <b>sous programme</b> du programme principal.<br>\n",
    "Les fonctions permettent de découper un programme en plusieurs sous programmes plus petits.<br>\n",
    "Il devient alors possible de construire chacune de ces fonctions de manière indépendante les unes des autres.<br>\n",
    "Cela permet de se concentrer sur une tâche plus simple, plus petite et plus rapide à mettre en œuvre.<br><br>"
   ]
  },
  {
   "cell_type": "markdown",
   "metadata": {},
   "source": [
    "<b><u>Exemple 1</u></b><br>\n",
    "Dans la cellule suivante, on a en début de code une fonction max qui prend en entrée deux paramètres x et y. La fonction retourne le plus grand de ces deux nombres.<br><br>\n",
    "<b>Exécuter</b> la cellule suivant pour mieux comprendre cette notion."
   ]
  },
  {
   "cell_type": "code",
   "execution_count": null,
   "metadata": {},
   "outputs": [],
   "source": [
    "def max(x, y):       # fonction qui calcule le maximum entre deux valeurs\n",
    "    if x >= y :\n",
    "        return x\n",
    "    else :\n",
    "        return y\n",
    "    \n",
    "A=int(input(\"donner un entier \"))      # début du programme principal\n",
    "B=int(input(\"donner un entier \"))\n",
    "M=max(A, B)                            # on fait appel à la fonction max\n",
    "print(\"le maximum des deux nombres donnés est \", M)"
   ]
  },
  {
   "cell_type": "markdown",
   "metadata": {},
   "source": [
    "<b><u>Remarques :</u></b><br>\n",
    "-La syntaxe pour définir une fonction est la suivante :<br>\n",
    "<b><font style=\"color:green;\">def nomFonction</font>(paramètre1, paramètre2, paramètre3 ...) :<br>\n",
    "&emsp;instruction 1<br>\n",
    "&emsp;instruction 2<br>\n",
    "&emsp;...<br></b>\n",
    "-Comme pour les instruction <b><font style=\"color:green;\">if</font></b>, <b><font style=\"color:green;\">else</font></b>, <b><font style=\"color:green;\">for</font></b> et <b><font style=\"color:green;\">while</font></b>, on utilise deux points et on indente les instructions qui font partie de la fonction.<br>\n",
    "-Les fonctions sont <b>des sous programmes du programme principal</b>. Pour être exécutée une fonction doit être appelée dans le programme principal.<br>\n",
    "-Pour appeler une fonction dans le programme principal, il suffit d&apos;écrire son nom et de renseigner entre parenthèses les valeurs éventuelles qui vont être passées en paramètres dans la fonction : <b>nomFonction(paramètre1, paramètre2, ...)</b>.<br>\n",
    "-Les fonctions peuvent retourner une valeur à l&apos;aide de l&apos;instruction <b><font style=\"color:green;\">return</font></b>. Cependant, certaines fonctions ne possédent pas de <b><font style=\"color:green;\">return</font></b> (nous ne traîterons pas ce genre de fonctions).<br>\n",
    "-Lorsque la fonction possède un <b><font style=\"color:green;\">return</font></b>, le résultat de cette fonction <b>doit être stocké dans une variable</b> (ou directement affiché) (comme <b>M=max(A,B)</b>).<br>\n",
    "-Une fonction si elle n&apos;est pas appelée dans le programme principal n&apos;est pas exécutée (c&apos;est commme si elle n&apos;était pas présente dans le code).<br><br>\n"
   ]
  },
  {
   "cell_type": "markdown",
   "metadata": {},
   "source": [
    "<b><u>Exemple 2</u></b><br>\n",
    "Dans la cellule suivante, on a en début de code la même fonction <b><font style=\"color:green;\">max</font></b> que dans l&apos;exemple 1.<br>\n",
    "On cherche cette fois à connaître le maximum entre trois valeurs. On va pour cela utiliser deux fois de suite la même fonction.<br>\n",
    "C&apos;est un des intérêts des fonctions que de pouvoir être utilisées autant de fois qu&apos;on le souhaite. Cela permet d&apos;éviter d&apos;avoir à recopier plusieurs fois de suite le même code.<br><br>\n",
    "<b>Exécuter</b> la cellule suivant pour mieux comprendre cette notion."
   ]
  },
  {
   "cell_type": "code",
   "execution_count": null,
   "metadata": {},
   "outputs": [],
   "source": [
    "def max(x, y):\n",
    "    if x >= y :\n",
    "        return x\n",
    "    else :\n",
    "        return y\n",
    "    \n",
    "A=int(input(\"donner un entier \"))\n",
    "B=int(input(\"donner un entier \"))\n",
    "C=int(input(\"donner un entier \"))\n",
    "M=max(A, B)\n",
    "M=max(M, C)\n",
    "print(\"le maximum des trois nombres donnés est \", M)"
   ]
  },
  {
   "cell_type": "markdown",
   "metadata": {},
   "source": [
    "<b><u>Intérêts des fonctions : </u></b><br>\n",
    "-L&apos;utilisation de fonctions permet <b>d&apos;alléger le programme principal</b>, notamment lorsque l&apos;on a besoin de faire plusieurs appels à la fonction.<br>\n",
    "-Les fonctions permettent de découper un programme en <b>plusieurs parties, plus simples et plus petites</b>.<br>\n",
    "-On peut alors construire chacune de ces fonctions de manière <b>indépendante les unes des autres</b>.<br>\n",
    "-Les fonctions permettent lorsque l&apos;on travaille à plusieurs de pouvoir <b>séparer clairement le travail de chacun</b>.<br>\n",
    "-Une fonction <b>peut être utilisée autant de fois que l&apos;on veut</b> dans le programme principal, ce qui permet d&apos;éviter d&apos;avoir à recopier plusieurs fois des parties de code.<br>\n",
    "-Les fonctions créées dans un programme peuvent être <b>réutilisées dans un autre programme</b>.\n"
   ]
  },
  {
   "cell_type": "markdown",
   "metadata": {},
   "source": [
    "<br><h3><span style=\"text-decoration: underline;\">Exercice 1</span></h3><br>\n",
    "Dans la cellule suivante, on a une fonction déjà construite qui prend en paramètre un nombre <i>x</i> et qui renvoie l&apos;image de ce réel par la fonction <i>f</i> définie par <i>f</i>(<i>x</i>)=2<i>x</i>-3.<br><br>\n",
    "<b>Compléter</b> le code suivant qui doit demander à l&apos;utilisateur de renseigner une valeur, le programme doit ensuite faire appel à la fonction pour calculer l&apos;image du nombre proposé."
   ]
  },
  {
   "cell_type": "code",
   "execution_count": null,
   "metadata": {},
   "outputs": [],
   "source": [
    "def fonction(x):\n",
    "    y=2*x-3\n",
    "    return y\n",
    "\n",
    "valeur=float(input(\"donner un nombre\"))\n",
    "image= _ _ _ _ _ _ \n",
    "print(\"l'image de \", _ _ _ _ _, \"est \", _ _ _ _ _)"
   ]
  },
  {
   "cell_type": "markdown",
   "metadata": {},
   "source": [
    "<br><h3><span style=\"text-decoration: underline;\">Exercice 2</span></h3><br>\n",
    "Dans la cellule suivante, construire une fonction qui prend en paramètre un réel et retourne le carré de ce réel.\n",
    "Pour tester votre fonction, le code doit ensuite demander à l&apos;utilisateur de renseigner un entier positif et calculer le carré de cet entier en faisant appel à la fonction."
   ]
  },
  {
   "cell_type": "code",
   "execution_count": null,
   "metadata": {},
   "outputs": [],
   "source": []
  },
  {
   "cell_type": "markdown",
   "metadata": {},
   "source": [
    "<br><h3><span style=\"text-decoration: underline;\">Exercice 3</span></h3><br>\n",
    "Dans la cellule suivante, construire une fonction qui prend en paramètres un prix et un pourcentage de réduction. La fonction doit retourner le prix soldé. Tester ensuite votre fonction en demandant à l&apos;utilisateur de renseigner un prix et un pourcentage. Le programme doit ensuite faire appel à la fonction pour calculer le prix soldé. "
   ]
  },
  {
   "cell_type": "code",
   "execution_count": null,
   "metadata": {},
   "outputs": [],
   "source": []
  }
 ],
 "metadata": {
  "kernelspec": {
   "display_name": "Python 3 (ipykernel)",
   "language": "python",
   "name": "python3"
  },
  "language_info": {
   "codemirror_mode": {
    "name": "ipython",
    "version": 3
   },
   "file_extension": ".py",
   "mimetype": "text/x-python",
   "name": "python",
   "nbconvert_exporter": "python",
   "pygments_lexer": "ipython3",
   "version": "3.10.6"
  }
 },
 "nbformat": 4,
 "nbformat_minor": 4
}
