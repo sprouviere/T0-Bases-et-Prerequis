{
 "cells": [
  {
   "cell_type": "markdown",
   "metadata": {},
   "source": [
    "<h1 style=\"color:teal;\">Découverte des opérations sous python</h1>"
   ]
  },
  {
   "cell_type": "markdown",
   "metadata": {},
   "source": [
    "<h2 style=\"color:rgb(100, 100, 255);\">Partie I : L&apos;addition</h2>"
   ]
  },
  {
   "cell_type": "markdown",
   "metadata": {},
   "source": [
    "Pour additionner deux variables, on utilise le symbole <b><font style=\"color:green;\">+</font></b>.<br>\n",
    "On peut additionner des variables de type <b><font style=\"color:green;\">int</font></b>, de type <b><font style=\"color:green;\">float</font></b>, mais aussi de type <b><font style=\"color:green;\">string</font></b>.<br><br>\n",
    "Exécuter le code suivant pour mieux comprendre cette notion."
   ]
  },
  {
   "cell_type": "code",
   "execution_count": null,
   "metadata": {
    "collapsed": true
   },
   "outputs": [],
   "source": [
    "a=5\n",
    "b=7\n",
    "c=5.3\n",
    "d=\"bon\"\n",
    "e=\"jour\"\n",
    "print(a+b)\n",
    "print(a+c)\n",
    "print(d+e)"
   ]
  },
  {
   "cell_type": "markdown",
   "metadata": {},
   "source": [
    "<b><u>Remarques :</u></b><br>\n",
    "-Il est possible d&apos;ajouter une variable de type <b><font style=\"color:green;\">int</font></b> avec une variable de type <b><font style=\"color:green;\">float</font></b>. Dans ce cas, le résultat sera de type <b><font style=\"color:green;\">float</font></b> (on le reconnait au fait que le résultat comporte un point qui désigne la virgule).<br>\n",
    "-Par contre, il n&apos;est pas possible d&apos;ajouter une variable de type <b><font style=\"color:green;\">int</font></b> ou de type <b><font style=\"color:green;\">float</font></b> avec une variable de type <b><font style=\"color:green;\">string</font></b>.<br>\n",
    "-Dans le code précédent, le résultat de chacune des additions est simplement affiché. Dans ce cas, ce résultat est \"perdu\" dans le sens où il n&apos;est stocké nul part en mémoire. Si on le souhaite, il est possible de garder ce résultat en mémoire en le stockant dans une variable (exemple : r = a+b).<br>\n",
    "-Le même mode de fonctionnement s&apos;applique à la <b>soustraction</b> en utilisant le symbole <b><font style=\"color:green;\">-</font></b>."
   ]
  },
  {
   "cell_type": "markdown",
   "metadata": {},
   "source": [
    "<h3><span style=\"text-decoration: underline;\">Exercice 1</span></h3><br/>\n",
    "    Dans un cours de Physique, les élèves ont eu un contrôle noté sur 16 points. La note est ensuite complétée par une note de TP sur 4 points.<br>\n",
    "    Dans le programme suivant remplacer les pointillés par du code pour que ce programme demande à l&apos;utilisateur de renseigner sa note de contrôle et sa note de TP. Le programme doit ensuite calculer la note globale, la stocker dans une variable et l&apos;afficher.<br>"
   ]
  },
  {
   "cell_type": "code",
   "execution_count": null,
   "metadata": {
    "collapsed": true
   },
   "outputs": [],
   "source": [
    "noteControle= _ _ _ _ _ _ _ _\n",
    "noteTP= _ _ _ _ _ _ _ _ _\n",
    "noteGlobale= _ _ _ _ _ _ _\n",
    "print( _ _ _ _ _ _)"
   ]
  },
  {
   "cell_type": "markdown",
   "metadata": {},
   "source": [
    "<br><h2 style=\"color:rgb(100, 100, 255);\">Partie II : La multiplication</h2>"
   ]
  },
  {
   "cell_type": "markdown",
   "metadata": {},
   "source": [
    "Pour multiplier deux variables, on utilise le symbole <b><font style=\"color:green;\">*</font></b>.<br>\n",
    "On peut multiplier des variables de type <b><font style=\"color:green;\">int</font></b>, de type <b><font style=\"color:green;\">float</font></b>, mais aussi de type <b><font style=\"color:green;\">string</font></b>.<br><br>\n",
    "Exécuter le code suivant pour mieux comprendre cette notion."
   ]
  },
  {
   "cell_type": "code",
   "execution_count": null,
   "metadata": {
    "collapsed": true
   },
   "outputs": [],
   "source": [
    "a=10\n",
    "b=2\n",
    "c=1.5\n",
    "d=\"ha \"\n",
    "print(a*b)\n",
    "print(a*c)\n",
    "print(d*5)"
   ]
  },
  {
   "cell_type": "markdown",
   "metadata": {},
   "source": [
    "<b><u>Remarques :</u></b><br>\n",
    "-Il est possible de multiplier une variable de type <b><font style=\"color:green;\">int</font></b> avec une variable de type <b><font style=\"color:green;\">float</font></b>. Dans ce cas, le résultat sera de type <b><font style=\"color:green;\">float</font></b>.<br>\n",
    "-Il est également possible de multiplier une variable de type <b><font style=\"color:green;\">string</font></b> avec une variable de type <b><font style=\"color:green;\">int</font></b>.<br>\n",
    "    -<b>Attention</b> en Mathématiques le symbole de la multiplication ne s&apos;écrit pas toujours (par exemple ab s&apos;interpète comme le produit de a par b). En informatique <b>le symbole * de la multiplication doit toujours apparaître</b> car lorsque python voit ab, il interpète cela comme une variable qui se nomme ab et non comme le produit de a par b.\n",
    "    "
   ]
  },
  {
   "cell_type": "markdown",
   "metadata": {},
   "source": [
    "<h3><span style=\"text-decoration: underline;\">Exercice 2</span></h3><br/>\n",
    "On considère la fonction f définie par f(x)=3x-5.<br>\n",
    "Dans la cellule suivante, remplacer les pointillés pour que le programme demande à l&apos;utilisateur de renseigner une valeur pour la variable x. Le programme doit ensuite calculer l'image de cette valeur par la fonction f, la stocker à l'aide de la variable y et l&apos;afficher."
   ]
  },
  {
   "cell_type": "code",
   "execution_count": null,
   "metadata": {
    "collapsed": true
   },
   "outputs": [],
   "source": [
    "x= _ _ _ _ _\n",
    "y= _ _ _ _ _\n",
    "print( _ _ _ _ )"
   ]
  },
  {
   "cell_type": "markdown",
   "metadata": {},
   "source": [
    "<br><h2 style=\"color:rgb(100, 100, 255);\">Partie III : La division</h2>"
   ]
  },
  {
   "cell_type": "markdown",
   "metadata": {},
   "source": [
    "Pour diviser deux variables, on utilise le symbole <b><font style=\"color:green;\">/</font></b>.<br>\n",
    "On peut diviser des variables de type <b><font style=\"color:green;\">int</font></b> et de type <b><font style=\"color:green;\">float</font></b>.<br><br>\n",
    "Exécuter le code suivant pour mieux comprendre cette notion."
   ]
  },
  {
   "cell_type": "code",
   "execution_count": null,
   "metadata": {
    "collapsed": true
   },
   "outputs": [],
   "source": [
    "a=12\n",
    "b=6\n",
    "c=2.4\n",
    "print(a/b)\n",
    "print(a/c)"
   ]
  },
  {
   "cell_type": "markdown",
   "metadata": {},
   "source": [
    "<b><u>Remarque :</u></b><br>\n",
    "    Lorsque l&apos;on divise deux nombres (de type int ou de type, float), le résultat sera de type float."
   ]
  },
  {
   "cell_type": "markdown",
   "metadata": {},
   "source": [
    "<h3><span style=\"text-decoration: underline;\">Exercice 3</span></h3><br/>\n",
    "Dans la cellule suivante, construire un programme qui demande à l&apos;utilisateur de renseigner trois variables représentant trois notes obtenues lors de trois contrôles. Le programme doit ensuite calculer la moyenne de ces trois notes, la stocker dans une variable et l'afficher."
   ]
  },
  {
   "cell_type": "code",
   "execution_count": null,
   "metadata": {
    "collapsed": true
   },
   "outputs": [],
   "source": []
  },
  {
   "cell_type": "markdown",
   "metadata": {},
   "source": [
    "<br><h2 style=\"color:rgb(100, 100, 255);\">Partie IV : Les puissances</h2>"
   ]
  },
  {
   "cell_type": "markdown",
   "metadata": {},
   "source": [
    "Le symbole utilisé par python pour la puissance est &#42;&#42;.<br>\n",
    "Exemple : 4&#42;&#42;3  signifie 4<sup>3</sup>.<br><br>\n",
    "Les puissance peuvent s&apos;utiliser avec des variables de type int ou de type float. Le résultat sera de type int ou de type float selon les cas de figure.<br><br>\n",
    "Exécuter le code suivant pour mieux comprendre cette notion."
   ]
  },
  {
   "cell_type": "code",
   "execution_count": null,
   "metadata": {
    "collapsed": true
   },
   "outputs": [],
   "source": [
    "a=5\n",
    "b=3\n",
    "c=a**b\n",
    "print(c)\n",
    "print(7**2)\n",
    "print(16**0.5)"
   ]
  },
  {
   "cell_type": "markdown",
   "metadata": {},
   "source": [
    "<u><b>Remarque mathématiques :</b></u><br>\n",
    "La puissance 0.5 correspond à la racine carrée."
   ]
  },
  {
   "cell_type": "markdown",
   "metadata": {},
   "source": [
    "<h3><span style=\"text-decoration: underline;\">Exercice 4</span></h3><br/>\n",
    "On considère la fonction f définie par f(x)=2x<sup>2</sup>-5x+1.<br>\n",
    "Dans la cellule suivante, construire un programme qui demande à l&apos;utilisateur de renseigner une valeur pour la variable x. Le programme doit ensuite calculer l'image de cette valeur par la fonction f, la stocker et l&apos;afficher."
   ]
  },
  {
   "cell_type": "code",
   "execution_count": null,
   "metadata": {
    "collapsed": true
   },
   "outputs": [],
   "source": []
  }
 ],
 "metadata": {
  "kernelspec": {
   "display_name": "Python 3 (ipykernel)",
   "language": "python",
   "name": "python3"
  },
  "language_info": {
   "codemirror_mode": {
    "name": "ipython",
    "version": 3
   },
   "file_extension": ".py",
   "mimetype": "text/x-python",
   "name": "python",
   "nbconvert_exporter": "python",
   "pygments_lexer": "ipython3",
   "version": "3.10.6"
  }
 },
 "nbformat": 4,
 "nbformat_minor": 2
}
