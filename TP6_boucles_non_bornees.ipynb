{
 "cells": [
  {
   "cell_type": "markdown",
   "metadata": {},
   "source": [
    "<h1 style=\"color:teal;\">Découverte de l&apos;instruction while</h1>"
   ]
  },
  {
   "cell_type": "markdown",
   "metadata": {},
   "source": [
    "Nous avons découvert les boucles dans le dernier TP avec les <b>boucles bornées</b> <b><font style=\"color:green;\">for</font></b>.<br> \n",
    "Les boucles bornées correspondent à des boucles pour lesquelles le nombre de passage dans la boucle est connu à l&apos;avance.<br>\n",
    "Certaines situations nécessitent d&apos;utiliser des boucles pour lesquelles le nombre de passage n&apos;est pas connu à l&apos;avance mais dépend d&apos;une ou de plusieurs conditions.<br>\n",
    "Dans ce cas, on parle de <b>boucle non bornée</b>, celle-ci continue de s&apos;exécuter tant qu&apos;une (ou plusieurs) condition est vérifiée.<br><br>\n",
    "<u><b>Exemple 1 :</b></u> <br>\n",
    "L&apos;algorithme suivant permet de calculer le nombre d&apos;années nécessaires pour qu&apos;une somme de 1 000 € placée sur un compte rémunéré au taux annuel de 5 % passe à 2 000 € (c'est-à-dire qu’elle double)<br>\n",
    "On rappelle que pour augmenter une valeur de 5% il suffit de multiplier celle-ci par 1,05.<br><br>\n",
    "<b>Exécuter</b> la cellule suivante en essayant de comprendre le code.<br><br>\n",
    "On remarquera dans la cellule suivante la présence de <b>commentaires</b> en fin de ligne.<br>\n",
    "Ces commentaires sont précédés d&apos;un <b><font style=\"color:teal;\">#</font></b> ce qui permet à Python de reconnaître qu&apos;il s&apos;agit d&apos;un commentaire.<br>\n",
    "Les commentaires sont destinés à l&apos;être humain afin de rendre le code plus compréhensible.<br>\n",
    "Python ne tiendra pas compte des commentaires lors de l&apos;exécution du code.\n"
   ]
  },
  {
   "cell_type": "code",
   "execution_count": null,
   "metadata": {},
   "outputs": [],
   "source": [
    "sommePlacee = 1000\n",
    "nbrAnnees = 0\n",
    "while sommePlacee < 2000 :\n",
    "    sommePlacee = sommePlacee * 1.05      # on augmente la valeur de 5 %\n",
    "    nbrAnnees = nbrAnnees + 1             # on augmente le nombre d'années de 1\n",
    "print(\"Le nombre d'années nécessaires pour doubler la somme est de \", nbrAnnees, \" années\")"
   ]
  },
  {
   "cell_type": "markdown",
   "metadata": {},
   "source": [
    "<u><b>Remarques :</b></u><br> \n",
    "-L&apos;identation et les deux points doivent être respectés comme pour les boucles <b><font style=\"color:green;\">for</font></b> et les instructions <b><font style=\"color:green;\">if</font></b> et <b><font style=\"color:green;\">else</font></b>.<br>\n",
    "-Il est souvent nécessaire d&apos;ajouter un compteur de boucle (dans l&apos;exemple le compteur de boucle est la variable <b>nbrAnnees</b>).<br>\n",
    "-La boucle s’arrête dès que la condition n’est plus remplie.<br>\n",
    "-Attention au compteur de boucle qui peut à la fin de la boucle avoir un temps d’avance ou parfois de retard par rapport à ce que l&apos;on a prévu.\n"
   ]
  },
  {
   "cell_type": "markdown",
   "metadata": {},
   "source": [
    "<u><b>Exemple 2 :</b></u> <br>\n",
    "Une personne décide de déposer de l&apos;argent dans une tirelire.<br>\n",
    "Il dépose 5 € dans sa tirelire le premier mois, 10 € le deuxième mois, 15 € le troisième mois, ainsi de suite... <br>\n",
    "La somme qui sera déposée dans la tirelire augmente donc de 5 € chaque mois.<br><br>\n",
    "Le programme suivant permet de calculer le nombre de mois nécessaires pour que la somme présente dans la tirelire atteigne ou dépassse 1 000 €.<br><br>\n",
    "<b>Exécuter</b> la cellule suivante en essayant de comprendre le code."
   ]
  },
  {
   "cell_type": "code",
   "execution_count": null,
   "metadata": {},
   "outputs": [],
   "source": [
    "sommeTirelire = 0\n",
    "sommeDeposee = 5\n",
    "nbrMois = 0\n",
    "while sommeTirelire < 1000 :\n",
    "    sommeTirelire = sommeTirelire + sommeDeposee     # on ajoute de l'argent dans la tirelire\n",
    "    sommeDeposee = sommeDeposee + 5                  # on calcule la somme qui sera à déposer dans la tirelire le mois prochain\n",
    "    nbrMois = nbrMois + 1                            # on augmente le nombre de mois de 1\n",
    "print(\"Pour avoir au moins 1 000 € dans la tirelire, il faut attendre \", nbrMois, \" mois.\")"
   ]
  },
  {
   "cell_type": "markdown",
   "metadata": {},
   "source": [
    "<br><h3><span style=\"text-decoration: underline;\">Exercice 1</span></h3><br>\n",
    "On cherche à connaître le plus petit entier naturel <i>n</i> tel que le somme de tous les entiers de 0 à <i>n</i> soit supérieure ou égale à 1000.<br>\n",
    "C&apos;est à dire que l&apos;on cherche le plus entier naturel <i>n</i> tel que : 0 + 1 + 2 + 3 +...+ n >= 1000<br><br>\n",
    "<b>Compléter</b> le code suivant pour qu&apos;il calcule et affiche la valeur de cet entier."
   ]
  },
  {
   "cell_type": "code",
   "execution_count": null,
   "metadata": {},
   "outputs": [],
   "source": [
    "n = 0\n",
    "somme = 0\n",
    "while somme _  _ _ _ :\n",
    "    n = n + 1\n",
    "    somme = somme + _ _ _ _ _ _\n",
    "print(\"Ce nombre est \", _ _ _ _ )"
   ]
  },
  {
   "cell_type": "markdown",
   "metadata": {},
   "source": [
    "<br><h3><span style=\"text-decoration: underline;\">Exercice 2</span></h3><br>\n",
    "Une balle est lachée d&apos;une hauteur de 90 centimètres. Elle rebondit à chaque fois qu&apos;elle touche le sol au 3/5 ième de la hauteur du rebond précédent.<br>\n",
    "On souhaite connaître le nombre de rebonds nécessaires pour que la hauteur du rebond soit inférieure ou égale à 1 cm.<br><br>\n",
    "<b>Compléter</b> le code suivant pour qu&apos;il calcule et affiche ce nombre de rebonds."
   ]
  },
  {
   "cell_type": "code",
   "execution_count": null,
   "metadata": {},
   "outputs": [],
   "source": [
    "hauteurRebond = 90\n",
    "nbrRebonds = 0\n",
    "while _ _ _ _ _ _ :\n",
    "    hauteurRebond = 3/5*hauteurRebond\n",
    "    nbrRebond = _ _ _ _ _ _ _\n",
    "print(\"le nombre de rebonds nécessaires est : \", _ _ _ _ _ _ _)"
   ]
  },
  {
   "cell_type": "markdown",
   "metadata": {},
   "source": [
    "<br><h3><span style=\"text-decoration: underline;\">Exercice 3</span></h3><br>\n",
    "On souhaite construire un algorithme qui permet de jouer au jeu suivant :<br>\n",
    "L&apos;ordinateur va choisir un entier au hasard entre 0 et 50. L&apos;utilisateur du programme va ensuite chercher à deviner ce nombre.<br>\n",
    "Le jeu doit se poursuivre tant que l&apos;utilisateur du programme n&apos;a pas trouvé le nombre à deviner.<br>\n",
    "Après chaque essai le programme indiquera à l&apos;utilisateur si le nombre qu&apos;il a proposé est trop grand ou trop petit par rapport au nombre à trouver.<br><br>\n",
    "Le code nécessite l&apos;utilisation de la fonction <b><font style=\"color:green;\">randint()</font></b> qui n&apos;est pas présente dans Python. Pour pouvoir utiliser cette fonction, il faut importer le module random (voir la première ligne de code).<br><br>\n",
    "<b>Compléter</b> le code suivant pour que celui corresponde au jeu expliqué ci-dessus. Jouer ensuite à ce jeu pour vérifier qu&apos;il fonctionne.\n"
   ]
  },
  {
   "cell_type": "code",
   "execution_count": null,
   "metadata": {},
   "outputs": [],
   "source": [
    "from random import*    # on importe le module random qui contient des fonctions permettant de choisir des nombres au hasard\n",
    "\n",
    "nbrMystere=randint(0,50)    # on utilise la fonction randInt() du module random. Elle permet de choisir un nombre entre 0 et 50\n",
    "essai=int(input(\"choisir un nombre \"))\n",
    "compteur=1                     # on compte le nombre d'essais utilisés\n",
    "while essai != _ _ _ _ _ _ _ :      # tant que le nombre mystère n'a pas été trouvé\n",
    "    if _ _ _ _ _ _ < _ _ _ _ _ _ _ _ :\n",
    "        print(\"le nombre proposé est trop petit\")\n",
    "    else :\n",
    "        print(\"le nombre proposé est trop grand\")\n",
    "    essai=int(input(\"choisir un nombre \"))\n",
    "    compteur = _ _ _ _ _ _ _ _       # on augmente le compteur de 1\n",
    "print(\"Vous avez trouvé le nombre mystère \", nbrMystere, \" en utilisant \", _ _ _ _ _ _ _, \"essais.\")\n",
    "    "
   ]
  }
 ],
 "metadata": {
  "kernelspec": {
   "display_name": "Python 3 (ipykernel)",
   "language": "python",
   "name": "python3"
  },
  "language_info": {
   "codemirror_mode": {
    "name": "ipython",
    "version": 3
   },
   "file_extension": ".py",
   "mimetype": "text/x-python",
   "name": "python",
   "nbconvert_exporter": "python",
   "pygments_lexer": "ipython3",
   "version": "3.10.6"
  }
 },
 "nbformat": 4,
 "nbformat_minor": 4
}
