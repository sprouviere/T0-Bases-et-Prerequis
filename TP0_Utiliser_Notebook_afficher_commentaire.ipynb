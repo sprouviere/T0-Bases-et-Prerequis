{
 "cells": [
  {
   "cell_type": "markdown",
   "metadata": {},
   "source": [
    "<h1 style=\"color:teal;\">Utiliser un notebook - Aficher un message - Placer un commentaire </h1>\n"
   ]
  },
  {
   "cell_type": "markdown",
   "metadata": {},
   "source": [
    "Un notebook est consitué de plusieurs <b>cellules</b>. Certaines comme celle-ci sont constituées de texte pour donner à l&apos;utilisateur du notebook des explications.<br><br>\n",
    "D'autres cellules sont précédée du mot <span style=\"color:blue;\">In [ ]:</span>  ou du mot <span style=\"color:blue;\">Entrée [ ]:</span> . Une cellule de ce type contient du code Python. Elle peut être exécutée directement en ligne à l'aide de l&apos;onglet <b>Exécuter</b> situé dans la barre d&apos;outils ci-dessus. <br/><br/> \n",
    "Il est important de bien exécuter les cellules qui contiennent du code Python dans l&apos;ordre, c&apos;est à dire du haut en bas. <br/><br/>\n",
    "Il est possible d&apos;exécuter autant de fois que l'on souhaite une cellule qui contient du code Python.<br/><br/>"
   ]
  },
  {
   "cell_type": "markdown",
   "metadata": {},
   "source": [
    "<span style=\"text-decoration: underline;\"><b>Exemple :</b></span> <br>\n",
    "La fonction <b><span style=\"color:green;\">print()</span></b> (dans la cellule ci-dessous) permet en Python de demander à l&apos;ordinateur d&apos;afficher quelque chose.<br><br>\n",
    "Cliquer dans la cellule \"<span style=\"color:blue;\">Entrée [ ]</span>\" ci-dessous, puis cliquer dans la barre d'outils sur l'onglet **Exécuter**.<br/>  \n",
    "Le programme doit alors afficher <b style=\"color:red;\"> J'ai réussi ! </b> en sortie.<br/><br/>"
   ]
  },
  {
   "cell_type": "code",
   "execution_count": null,
   "metadata": {},
   "outputs": [],
   "source": [
    "print(\"J'ai réussi !\")"
   ]
  },
  {
   "cell_type": "markdown",
   "metadata": {},
   "source": [
    "<br/><b>Modifier</b> le programme suivant puis l&apos;exécuter pour qu&apos;il affiche : <b style=\"color:red;\"> Je suis trop fort !<br/><br/>"
   ]
  },
  {
   "cell_type": "code",
   "execution_count": null,
   "metadata": {},
   "outputs": [],
   "source": [
    "print(\"c'est trop dur pour moi\")"
   ]
  },
  {
   "cell_type": "markdown",
   "metadata": {},
   "source": [
    "<u><b>Les commentaires :</b></u><br>\n",
    "Lorsque l&apos;on écrit du code Python, il est possible d&apos;ajouter des commentaires afin que le code soit plus compréhensible par l&apos;être humain.<br>\n",
    "Les commentaires doivent être précédés d&apos;un <b><font style=\"color:teal;\">#</font></b> ce qui permet à Python de reconnaître qu&apos;il s&apos;agit d&apos;un commentaire et qu&apos;il ne doit donc pas en tenir compte lors de l&apos;exécution du code.<br><br>\n",
    "<b>Exéxuter</b> la cellule suivant pour constater que le commentaire ajouté en fin de ligne n'a pas d'effet sur l&apos;exécution du code."
   ]
  },
  {
   "cell_type": "code",
   "execution_count": null,
   "metadata": {},
   "outputs": [],
   "source": [
    "print(\"bonjour\")      # cette ligne sert à demander à Python d'afficher \"bonjour\""
   ]
  },
  {
   "cell_type": "markdown",
   "metadata": {},
   "source": [
    "<br><h1 style=\"color:teal;\">En cas de problèmes</h1>"
   ]
  },
  {
   "cell_type": "markdown",
   "metadata": {},
   "source": [
    "Parfois, les cellules avec du code Python ne veulent pas s&apos;exécuter.<br>\n",
    "Dans ce cas, <b>relancer le noyau</b> en utilisant la flèche (qui tourne) située à droite de l&apos;onglet Exécuter (voir l&apos;image ci-dessous).<br>\n",
    "Si cela ne marche toujours pas, fermer et réouvrir le TP.<br>\n",
    "S&apos;il y a toujours un problème, fermer le site et le réouvrir.<br><br>\n",
    "<img src=\"relancer noyau.png\" alt=\"image\" width=1000 height=300  > \n"
   ]
  },
  {
   "cell_type": "code",
   "execution_count": null,
   "metadata": {},
   "outputs": [],
   "source": []
  }
 ],
 "metadata": {
  "kernelspec": {
   "display_name": "Python 3",
   "language": "python",
   "name": "python3"
  },
  "language_info": {
   "codemirror_mode": {
    "name": "ipython",
    "version": 3
   },
   "file_extension": ".py",
   "mimetype": "text/x-python",
   "name": "python",
   "nbconvert_exporter": "python",
   "pygments_lexer": "ipython3",
   "version": "3.10.6"
  }
 },
 "nbformat": 4,
 "nbformat_minor": 2
}
