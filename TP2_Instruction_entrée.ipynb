{
 "cells": [
  {
   "cell_type": "markdown",
   "metadata": {},
   "source": [
    "<h1 style=\"color:teal;\">Découverte de la fonction d&apos;entrée input()</h1>"
   ]
  },
  {
   "cell_type": "markdown",
   "metadata": {},
   "source": [
    "<h2 style=\"color:rgb(100, 100, 255);\">Partie I : Saisir une chaîne de caractères</h2>"
   ]
  },
  {
   "cell_type": "markdown",
   "metadata": {},
   "source": [
    "<b>Rappel :</b> sous Python, il existe plusieurs types d&apos;objets, en particulier les entiers (type <b><font style=\"color:green;\">int</font></b>), les nombres à virgule (type <b><font style=\"color:green;\">float</font></b>), les chaînes de caractères (type <b><font style=\"color:green;\">string</font></b>). <br><br>\n",
    "La fonction <b><font style=\"color:green;\">input()</font></b> permet de saisir <b>une chaîne de caractère</b> (type <b><font style=\"color:green;\">string</font></b>) renseignée par l&apos;utilisateur du programme.<br><br>\n",
    "Exécuter le code suivant pour mieux comprendre cette fonction <b><font style=\"color:green;\">input()</font></b>.<br>\n",
    "N'oublier pas de taper sur la touche \"entrée\" une fois que vous avez renseigné votre prénom."
   ]
  },
  {
   "cell_type": "code",
   "execution_count": null,
   "metadata": {},
   "outputs": [],
   "source": [
    "prenom=input(\"donner votre prénom \")\n",
    "print(\"votre prénom est :\", prenom)"
   ]
  },
  {
   "cell_type": "markdown",
   "metadata": {},
   "source": [
    "<b>Remarque :</b><br>\n",
    "La fonction <b><font style=\"color:green;\">input()</font></b> peut être accompagnée (ce n&apos;est pas obligatoire) par un message destiné à l&apos;utilisateur du programme pour lui indiquer ce qu&apos;il doit faire. Ce message sera renseigné entre les parenthèses de la fonction : <b><font style=\"color:green;\">input(\"message accompagnant la saisie\")</font></b>.<br><br>\n",
    "<u><b>Important :</b></u><br>\n",
    "L&apos;information saisie par la fonction <b><font style=\"color:green;\">input()</font></b> <b>doit être stockée à l&apos;aide d&apos;une variable</b> sinon il sera impossible de l&apos;utiliser ou de la retrouver par la suite.<br><br>\n",
    "Comme préciser plus haut le contenu de cette variable est par défaut de type <b><font style=\"color:green;\">string</font></b> (chaîne de caractères).<br><br>"
   ]
  },
  {
   "cell_type": "markdown",
   "metadata": {},
   "source": [
    "<h3><span style=\"text-decoration: underline;\">Exercice 1</span></h3><br/>\n",
    "Dans la cellule suivante, écrire du code dans lequel doivent figurer deux variables : <b>nom</b> et <b>prenom</b> dont le contenu sera renseigné par l&apos;utilisateur à l&apos;aide de la fonction <b><font style=\"color:green;\">input()</font></b> (il faudra donc utiliser deux fois cette fonction).<br>\n",
    "Le code devra ensuite afficher un message de la forme suivante : mon nom est '<b>nom</b>' et mon prénom est '<b>prenom</b>'."
   ]
  },
  {
   "cell_type": "code",
   "execution_count": null,
   "metadata": {},
   "outputs": [],
   "source": []
  },
  {
   "cell_type": "markdown",
   "metadata": {},
   "source": [
    "<h3><span style=\"text-decoration: underline;\">Remarque</span></h3>\n",
    "Si l&apos;utilisateur cherche à saisir un nombre à l&apos;aide de la fonction <b><font style=\"color:green;\">input()</font></b> , Pyhton ne le considérera pas comme tel, pour lui, il s&apos;agira d&apos;une chaîne de caractères (dans le sens : une succession de symboles). Car comme il a été dit plus haut la fonction <b><font style=\"color:green;\">input()</font></b> saisit par défaut les informations données sous forme de chaîne de caractères.<br><br>"
   ]
  },
  {
   "cell_type": "markdown",
   "metadata": {},
   "source": [
    "<h2 style=\"color:rgb(100, 100, 255);\">Partie II : Saisir un objet d&apos;un autre type</h2>"
   ]
  },
  {
   "cell_type": "markdown",
   "metadata": {},
   "source": [
    "Dans la cellule suivante, un nombre est saisi. On cherche ensuite à ajouter 2 à ce nombre. Python va alors rencontrer un problème car il ne sait pas ajouter 2 à une chaîne de caractères (on rappelle encore une fois que la fonction <b><font style=\"color:green;\">input()</font></b> saisit les informations données sous forme de chaîne de caractères).<br><br>\n",
    "Pour pallier à ce problème, il faudrait que ce nombre soit considéré par Python comme un nombre et non une chaîne de caractères.<br><br>\n",
    "Exécuter la cellule suivante pour mieux comprendre cette notion (un message d&apos;erreur doit s&apos;afficher)."
   ]
  },
  {
   "cell_type": "code",
   "execution_count": null,
   "metadata": {
    "collapsed": true
   },
   "outputs": [],
   "source": [
    "a=input(\"donner un nombre\")\n",
    "b=a+2"
   ]
  },
  {
   "cell_type": "markdown",
   "metadata": {},
   "source": [
    "Lorsque l&apos;on souhaite saisir un objet qui n&apos;est pas de type <b><font style=\"color:green;\">string</font></b>, la fonction <b><font style=\"color:green;\">input()</font></b> seule ne le permet pas, car comme nous l&apos;avons déjà vu à de multiples reprises cette fonction va saisir une chaîne de caractères.<br><br>\n",
    "Lorsque cela est possible la chaîne de caractère saisit peut être convertie en un objet de type <b><font style=\"color:green;\">int</font></b> ou de type type <b><font style=\"color:green;\">float</font></b>.\n",
    "Pour cela on utilise les fonctions <b><font style=\"color:green;\">int()</font></b> ou <b><font style=\"color:green;\">float()</font></b>.<br><br>\n",
    "Pour mieux comprendre cette notion, exécuter le code suivant à deux reprises en donnant un entier puis un mot.<br>\n",
    "Pour la chaîne de caractères un message d'erreur devrait apparaître car Python ne sait pas convertir un mot en un nombre."
   ]
  },
  {
   "cell_type": "code",
   "execution_count": null,
   "metadata": {
    "collapsed": true
   },
   "outputs": [],
   "source": [
    "a=int(input(\"donner un nombre entier\"))\n",
    "b=a+5\n",
    "print(b)"
   ]
  },
  {
   "cell_type": "markdown",
   "metadata": {},
   "source": [
    "Exécuter également le code suivant :"
   ]
  },
  {
   "cell_type": "code",
   "execution_count": null,
   "metadata": {
    "collapsed": true
   },
   "outputs": [],
   "source": [
    "a=float(input(\"donner un nombre à virgule\"))\n",
    "a=a*2\n",
    "print(a)"
   ]
  },
  {
   "cell_type": "markdown",
   "metadata": {},
   "source": [
    "<h3><span style=\"text-decoration: underline;\">Exercice 2</span></h3><br/>\n",
    "Dans la cellule suivante, écrire du code dans lequel doivent figurer deux variables : <b>nom</b> (de type <b><font style=\"color:green;\">string</font></b>) et <b>age</b> (de type <b><font style=\"color:green;\">int</font></b> ou <b><font style=\"color:green;\">float</font></b>) dont le contenu sera renseigné par l&apos;utilisateur à l&apos;aide de la fonction <b><font style=\"color:green;\">input()</font></b>.<br>\n",
    "Le code devra ensuite afficher un message de la forme suivante : mon nom est '<b>nom</b>' et j'ai '<b>age</b>' ans."
   ]
  },
  {
   "cell_type": "code",
   "execution_count": null,
   "metadata": {
    "collapsed": true
   },
   "outputs": [],
   "source": []
  }
 ],
 "metadata": {
  "kernelspec": {
   "display_name": "Python 3 (ipykernel)",
   "language": "python",
   "name": "python3"
  },
  "language_info": {
   "codemirror_mode": {
    "name": "ipython",
    "version": 3
   },
   "file_extension": ".py",
   "mimetype": "text/x-python",
   "name": "python",
   "nbconvert_exporter": "python",
   "pygments_lexer": "ipython3",
   "version": "3.10.6"
  }
 },
 "nbformat": 4,
 "nbformat_minor": 2
}
