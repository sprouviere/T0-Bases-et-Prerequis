{
 "cells": [
  {
   "cell_type": "markdown",
   "metadata": {
    "collapsed": true
   },
   "source": [
    "<h1 style=\"color:teal;\">Découverte de la fonction print() et des variables</h1>"
   ]
  },
  {
   "cell_type": "markdown",
   "metadata": {
    "collapsed": true
   },
   "source": [
    "<h2 style=\"color:rgb(100, 100, 255);\">Partie I : La fonction de sortie : print()</h2>"
   ]
  },
  {
   "cell_type": "markdown",
   "metadata": {},
   "source": [
    "La fonction <b><font style=\"color:green;\"> print() </font></b> permet d'afficher un message, c&apos;est à dire du texte ou bien encore d&apos;afficher le contenu d'une variable.<br><br>\n",
    "    Pour afficher du texte, il suffit de renseigner le texte que l&apos;on souhaite afficher, entre les parenthèses de la fonction <b><font style=\"color:green;\">print() </font></b>.<br> Exemple : <b><font style=\"color:green;\">print(\"votre message\").</font> </b><br><br>\n",
    "    <b><u>Remarques :</u></b><br>\n",
    "    Noter que le message que vous souhaitez afficher doit être <b>entre guillemets</b> (\"votre message\"). Il peut aussi être entre de simples cotes ('votre message'), en particulier dans le cas où votre texte comporte lui même des guillemets ('votre \"message\"').<br><br>\n",
    "    Nous verrons plus loin l'affichage des variables."
   ]
  },
  {
   "cell_type": "markdown",
   "metadata": {},
   "source": [
    "<h3><span style=\"text-decoration: underline;\">Exercice 1</span></h3><br/>\n",
    "Compléter le code suivant pour afficher le message suivant : \"je m'appelle prénom\" (vous remplacerez bien sûr \"prénom\" par votre propre prénom) et n'oubliez pas les \" \" autour !"
   ]
  },
  {
   "cell_type": "code",
   "execution_count": null,
   "metadata": {},
   "outputs": [],
   "source": [
    "print()"
   ]
  },
  {
   "cell_type": "markdown",
   "metadata": {},
   "source": [
    "<br><h2 style=\"color:rgb(100, 100, 255);\">Partie II : Notion de variables</h2>"
   ]
  },
  {
   "cell_type": "markdown",
   "metadata": {},
   "source": [
    "En informatique, il est possible d&apos;enregistrer des informations en mémoire dans ce que l&apos;on appelle <b>des variables.</b><br>\n",
    "Sous python, les informations sont stockées dans un emplacement mémoire et un nom est associé à cet emplacement. Ce nom permet de retrouver en mémoire l&apos;information stockée (comme une adresse)."
   ]
  },
  {
   "cell_type": "markdown",
   "metadata": {},
   "source": [
    "<img src=\"variable.png\" alt=\"image\" width=400 height=300  > "
   ]
  },
  {
   "cell_type": "markdown",
   "metadata": {},
   "source": [
    "Comme le montre le schéma précédent, Python distingue les <b>objets</b> des <b>variables</b>.<br><br>\n",
    "<b>Les objets</b> sont des informations stockées en mémoire, ils peuvent être de <b>différents types</b>, des entiers (type <b><font style=\"color:green;\">int</font></b>), des nombres à virgule (type <b><font style=\"color:green;\">float</font></b>), des chaînes de caractères (type <b><font style=\"color:green;\">string</font></b>) etc ...<br><br>\n",
    "Un chaîne de caractères correspond en fait à du texte, c&apos;est à dire une succession de caractères. <br>\n",
    "Attention, 745 peut être considéré par Python comme un entier ou comme une chaîne de caractères qui comporte trois caractères.<br><br>\n",
    "<b>Une variable</b> est un nom qui pointe vers un objet et permet de récupérer l'information qu&apos;il contient (c&apos;est un peu comme une adresse mémoire).<br><br>\n",
    "<b>Remarques :</b><br>\n",
    "- Les noms de variable ne doivent pas comporter d&apos;accents.<br>\n",
    "- Plusieurs variables peuvent pointer vers le même objet (cela évite d&apos;avoir en mémoire trop d&apos;objets identiques).<br>\n",
    "- Une variable peut au cours d&apos;un programme changer d&apos;objet (un seul à la fois, mais celui-ci n'est pas forcément toujours le même).<br><br>\n",
    "<u><b>Important :</b></u><br>\n",
    "Il ne faut pas confondre <b>une variable</b> et <b>son contenu</b>.<br>\n",
    "Par exemple la variable a du schéma ci-dessus se nomme a et son contenu est 45."
   ]
  },
  {
   "cell_type": "markdown",
   "metadata": {},
   "source": [
    "<br><h2 style=\"color:rgb(100, 100, 255);\"> Partie III : Afficher le contenu d&apos;une variable</h2>"
   ]
  },
  {
   "cell_type": "markdown",
   "metadata": {},
   "source": [
    "Pour afficher <b>le contenu</b> d&apos;une variable, on utilise de nouveau la fonction <b> <font style=\"color:green;\">print() </b></font>.<br><br>\n",
    "Par exemple si l&apos;on veut afficher <b>le contenu</b> d'une variable qui se nomme a, on utilise le code suivant : <b><font style=\"color:green;\">print(a).</font> </b><br><br>\n",
    "A noter <b>qu&apos;il n&apos;y a pas de guillemets autour de la variable</b>. Dans le cas contraire python afficherait la lettre a et nom le contenu de la variable a.<br><br>\n",
    "Exécuter les cellules suivantes pour mieux comprendre cette notion"
   ]
  },
  {
   "cell_type": "code",
   "execution_count": null,
   "metadata": {
    "collapsed": true
   },
   "outputs": [],
   "source": [
    "a=45\n",
    "print(a)\n",
    "b=\"bonjour\"\n",
    "print(b)"
   ]
  },
  {
   "cell_type": "code",
   "execution_count": null,
   "metadata": {
    "collapsed": true
   },
   "outputs": [],
   "source": [
    "a=45\n",
    "print(\"a\")"
   ]
  },
  {
   "cell_type": "markdown",
   "metadata": {},
   "source": [
    "<br><b>Remarque :</b><br>\n",
    "Il est possible de simplifier le code de la première cellule en demandant à Python d&apos;afficher plusieurs variable en une seule instruction comme dans l'exemple ci-dessous (à exécuter).<br>\n",
    "On remarque dans le code suivant que pour afficher plusieurs éléments, il faut dans les parenthèses de l&apos;instruction <b> <font style=\"color:green;\">print() </b></font>, séparer ces éléments avec <b>une virgule</b> ."
   ]
  },
  {
   "cell_type": "code",
   "execution_count": null,
   "metadata": {
    "collapsed": true
   },
   "outputs": [],
   "source": [
    "a=45\n",
    "b=\"bonjour\"\n",
    "print(a, b)"
   ]
  },
  {
   "cell_type": "markdown",
   "metadata": {},
   "source": [
    "<br>Il est également possible d&apos;afficher une variable et du texte en une seule instruction comme dans l&apos;exemple ci-dessous (à exécuter).<br>\n",
    "Il faut à nouveau ne pas oublier d&apos;utiliser une virgule."
   ]
  },
  {
   "cell_type": "code",
   "execution_count": null,
   "metadata": {
    "collapsed": true
   },
   "outputs": [],
   "source": [
    "prenom=\"Dédé\"\n",
    "print(\"mon prénom est : \", prenom)"
   ]
  },
  {
   "cell_type": "markdown",
   "metadata": {},
   "source": [
    "<h3><span style=\"text-decoration: underline;\">Exercice 2</span></h3><br/>\n",
    "    Dans la cellule suivante, écrire du code dans lequel doivent figurer deux variables : <b>nom</b> et <b>prenom</b> (vous donnerez le contenu de votre choix à chacune de ces deux variables).<br>\n",
    "    Le code devra ensuite afficher un message (contenant les deux variables) de la forme suivante : mon nom est ' <b>nom</b> ' et mon prénom est ' <b>prenom</b> '."
   ]
  },
  {
   "cell_type": "code",
   "execution_count": null,
   "metadata": {
    "collapsed": true
   },
   "outputs": [],
   "source": []
  }
 ],
 "metadata": {
  "kernelspec": {
   "display_name": "Python 3 (ipykernel)",
   "language": "python",
   "name": "python3"
  },
  "language_info": {
   "codemirror_mode": {
    "name": "ipython",
    "version": 3
   },
   "file_extension": ".py",
   "mimetype": "text/x-python",
   "name": "python",
   "nbconvert_exporter": "python",
   "pygments_lexer": "ipython3",
   "version": "3.10.6"
  }
 },
 "nbformat": 4,
 "nbformat_minor": 2
}
