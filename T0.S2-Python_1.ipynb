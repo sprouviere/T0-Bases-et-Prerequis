{
 "cells": [
  {
   "cell_type": "markdown",
   "metadata": {},
   "source": [
    "<p><img src=\"img/python-logo.png\" /> </p> <h1> <center> Découvrir Python - partie 1</center> </h1> <br>\n"
   ]
  },
  {
   "cell_type": "markdown",
   "metadata": {},
   "source": [
    "Python est un langage de programmation créé au début des années 1990 par [Guido Von Rossum](https://fr.wikipedia.org/wiki/Guido_van_Rossum), informaticien d'origine néerlandaise et fan des \"[Monthy Python](https://www.youtube.com/watch?v=2ChPAqPdDdw)\" dont il donna le nom à son langage."
   ]
  },
  {
   "cell_type": "markdown",
   "metadata": {},
   "source": [
    "<h2> <u> 1 - Notion de programme et instructions de base </u> </h2>"
   ]
  },
  {
   "cell_type": "markdown",
   "metadata": {},
   "source": [
    "Un programme est un ensemble <b> d'instructions </b> destinées à être exécutées par un ordinateur. <br>\n",
    "Par <b> Instruction </b> on veut dire action que peut exécuter un ordinateur, c'est à dire : <br>\n",
    "<ul>\n",
    "    <li> afficher un message à l'écran </li>\n",
    "    <li> lire une valeur au clavier </li>\n",
    "    <li> faire un calcul </li>\n",
    "    <li> faire un test </li>\n",
    "    <li> répéter une même série d'instructuctions </li>\n",
    "    <li> ... </li>"
   ]
  },
  {
   "cell_type": "markdown",
   "metadata": {},
   "source": [
    "***\n",
    "Ce document est un notebook jupyter.\n",
    "\n",
    ">Les cellules marquées : Entrée [ ] , ci-dessous contiennent des instruction écrites en Python que vous pourrez modifier et exécuter pour tester. <br> Vous pouvez exécuter une cellule à l'aide du bouton <button class='fa fa-step-forward icon-step-forward btn btn-xs btn-default'></button> ou en utilisant le menu **`Cell>Run...`** ou encore en vous servant des touches :\n",
    "* **`<Maj+Entrée>`** : le code de la celluleest exécuté et le curseur va à la cellule suivante.\n",
    "* **`<Ctrl+Entrée>`** : le code de la cellule est exécuté et le curseur reste sur la même cellule.\n",
    "* **`<Alt+Entrée>`** : le code de la cellule est exécuté et le notebook crée une nouvelle cellule immédiatement après.\n",
    "\n",
    ">Vous pouvez également ajouter une nouvelle cellule à l'aider du bouton <button class='fa fa-plus icon-plus btn btn-xs btn-default'></button>.\n",
    "\n",
    "Un des avantages principaux des notebooks est de vous permettre de modifier le code que nous avons écrit, et de voir par vous-même comment se comporte le code modifié. <br/>\n",
    "\n",
    "Vous pouvez entregistrer votre travail sous forme html pour garder une visualisation de ce que vous avez écrit : <br/>\n",
    "> File -> Download As -> html <br/>\n",
    ">\n",
    "\n",
    "***"
   ]
  },
  {
   "cell_type": "markdown",
   "metadata": {},
   "source": [
    "<h3> 1.1 Afficher un message – utiliser une variable – commenter un programme </h3> <br>\n",
    "Q1.1.1) à Q1.1.3) Exécuter l'instruction ci-dessous"
   ]
  },
  {
   "cell_type": "code",
   "execution_count": null,
   "metadata": {},
   "outputs": [],
   "source": [
    "print(\"Bonjour à tous ! \")"
   ]
  },
  {
   "cell_type": "markdown",
   "metadata": {},
   "source": [
    "Pour exécuter cette instructions, sélectionner sa cellule puis taper sur les touches **`<ctrl+Entrée>`** <br>\n",
    "En basculant la cellule du type **`Code`** au type **`Markdown`**  dans le menu en haut de la page, puis à nouveau vers le type **`Code`** vous pouvez \"effacer\" le résutat du programme. <br><br>"
   ]
  },
  {
   "cell_type": "markdown",
   "metadata": {},
   "source": [
    "<br/> Maintenant essayer le programme suivant :"
   ]
  },
  {
   "cell_type": "code",
   "execution_count": null,
   "metadata": {},
   "outputs": [],
   "source": [
    "texte = \"Bonjour à tous ! \"\n",
    "print(texte)"
   ]
  },
  {
   "cell_type": "markdown",
   "metadata": {},
   "source": [
    "> On voit que, ces deux instructions aboutissent au même résultat visuel, c'est à dire au même résultat pour celui qui exécute ou utilise le programme, à savoir l'affichage d'un texte à l'écran.\n",
    "\n",
    "D'ailleurs en anglais `print` signifie **écrit, imprime**.\n",
    "\n",
    "> Du point de vue du programmeur il y a une différence :\n",
    "* dans le premier cas on indique à l'intéreur de `( )` et entre `\" \"` la chaîne de caractère (c'est à dire codée à l'aide du code ASCII) que l'on veut afficher.\n",
    "* dans le second cas on utilise une **variable** dont le nom est `texte`\n",
    "\n",
    "> `print()` est une fonction qui affiche ce qui est contenu entre `( )`. <br/> \n",
    "Pour indiquer la partie qui correspond au texte, il faut le mettre entre ` \" \" ` ou entre ` ' ' ` (on utilise ` \" \" ` quand il y a une ' dans la phrase et ` ' ' ` quand il y a des guillemets et ... s'il y a les deux on utilise ` \"\"\"  \"\"\" ` autour du texte ). \n",
    "\n",
    "Quand on écrit `print(texte)` on affiche le contenu de la variable `texte`."
   ]
  },
  {
   "cell_type": "markdown",
   "metadata": {},
   "source": [
    "<br/> <br/> <b> <u> Q 1.1.4) J'écris du code :</u> </b> <i> Ecrire et tester les instructions qui placent la chaine de caractères suivante\n",
    " :</i>  J'aime bien les \"monstres\".<br/>\n",
    "<i> Dans une variable et qui l'affichent à l'écran : </i>\n"
   ]
  },
  {
   "cell_type": "code",
   "execution_count": null,
   "metadata": {},
   "outputs": [],
   "source": []
  },
  {
   "cell_type": "markdown",
   "metadata": {},
   "source": [
    "<br/> <br/> Pour afficher un texte sur **plusieurs** lignes on utilise \" \\n \" à l'intérieur de la chaîne de caractères pour indiquer à l'instruction qu'il faut aller à la ligne, exemple :"
   ]
  },
  {
   "cell_type": "code",
   "execution_count": null,
   "metadata": {},
   "outputs": [],
   "source": [
    "print(\"Mon texte commence ici \\net continue à la ligne\")"
   ]
  },
  {
   "cell_type": "markdown",
   "metadata": {},
   "source": [
    "**On peut aussi afficher : des nombres, le contenu de variables qui contiennent des nombres, ... et même des calculs.\n",
    "essayer :**"
   ]
  },
  {
   "cell_type": "code",
   "execution_count": null,
   "metadata": {},
   "outputs": [],
   "source": [
    "a = 2  # a est une variable numérique qui contient l'entier : 2\n",
    "b = 5.5  #b est une variable numérique qui contient le flottant : 5,5\n",
    "texte = \"Le résultat de\"\n",
    "print(texte , b , \"-\"  , a , \"est\" , b-a)"
   ]
  },
  {
   "cell_type": "markdown",
   "metadata": {},
   "source": [
    "<br/> <br/>  <b> <u> Q1.1.5) J'écris du code :</u> </b> Je veux afficher : <br/>\n",
    "```Python\n",
    "Le résultat de 2 x 3 est égal à 6\n",
    "```\n",
    "**Tester, compléter et corriger le programme :**"
   ]
  },
  {
   "cell_type": "code",
   "execution_count": null,
   "metadata": {},
   "outputs": [],
   "source": [
    "a =     # variable numérique   \n",
    "b =     # variable numérique \n",
    "texte = \"Le résultat de\"\n",
    "resultat = \"est égal à\" \n",
    "print"
   ]
  },
  {
   "cell_type": "markdown",
   "metadata": {},
   "source": [
    "**remarque :** On utilise le caractère ` # ` pour mettre un commentaire dans le programme, c'est à dire une information qui permet au programmeur ou à celui qui lit le programme de comprendre ce qui est fait, mais que l'utilisateur ne voit pas.<br/>\n",
    "Facebook contient des millions de lignes de code et les programmeurs sont nombreux, changent, ... les commentaires aident à `assurer la maintenance des programmes`."
   ]
  },
  {
   "cell_type": "markdown",
   "metadata": {},
   "source": [
    "<h3> 1.2 Lire un message (chaîne de caratère) ou une valeur </h3> <br> \n",
    "Q 1.2.1) Exécuter le programme ci-dessous :"
   ]
  },
  {
   "cell_type": "code",
   "execution_count": null,
   "metadata": {},
   "outputs": [],
   "source": [
    "votre_texte = input(\"Saisir le texte que vous voulez afficher : \") \n",
    "votre_texte = \"Le texte saisi au clavier est : \" +votre_texte\n",
    "print(votre_texte)"
   ]
  },
  {
   "cell_type": "markdown",
   "metadata": {},
   "source": [
    "<u>ligne 1 :</u> L'instruction `input(\"   \")` permet de poser une question à l'utiisateur et d'attendre sa réponse. La réponse de l'utilisateur est stockée dans la variable `votre_texte`.\n",
    "\n",
    "<u>ligne 2 :</u> on modifie la variable `votre_texte`, elle est désormais formée de la **chaîne de caratères** `\"Le texte saisi au clavier est : \"` à laquelle on \"ajoute\" (on dit en informatique qu'on **concatène**) en utilisant le signe ` + `, le texte qui était déjà présent dans la variable (celui saisi par l'utilisateur à la ligne 1).\n",
    "\n",
    "<u>ligne 3:</u> on affiche le contenu de la variable `votre_texte` à l'écran.\n"
   ]
  },
  {
   "cell_type": "markdown",
   "metadata": {},
   "source": [
    "<br/> <br/> Q1.2.2)<b> <u> J'écris du code :</u> </b> \n",
    "Je veux afficher une fenêtre de saisie à l'écran qui demande à l'utilisateur son prénom :<br/>\n",
    "\n",
    "<i> `Quel est ton prénom ?` </i>\n",
    "\n",
    "et attend la réponse, puis qui pose la nouvelle question :\n",
    "\n",
    "<i> `Bonjour **** ici le prénom doit s 'afficher **** ! comment vas-tu aujourd'hui ?` </i>\n",
    "\n",
    "Et attend la réponse, puis affiche :\n",
    "\n",
    "<i> `**** ici la réponse doit s'afficher ****, OK !`</i>\n",
    "\n",
    "**Tester, compléter et corriger le programme  :**"
   ]
  },
  {
   "cell_type": "code",
   "execution_count": null,
   "metadata": {},
   "outputs": [],
   "source": [
    "txt_prenom =              \"Quel est ton prénom ? \"\n",
    "txt_reponse = \"Bonjour \"                 \" ! Comment vas-tu aujourd'hui ? \"\n",
    "txt_sante = \n",
    "print(                +                   )"
   ]
  },
  {
   "cell_type": "markdown",
   "metadata": {},
   "source": [
    "<br/> <br/>Q 1.2.3) L'instruction ` input() ` considère que l'utilisateur a saisi du texte, mais parfois on veut lire un nombre. Il faut donc **convertir** le texte en nombre (concètement converir la chaîne de code ASCII associé au nombre en code binaire du nombre). <br/>\n",
    "Selon que l'on souhaite lire un nombre ` entier ` ou ` flottant ` on va utiliser les conversions suivantes :"
   ]
  },
  {
   "cell_type": "code",
   "execution_count": null,
   "metadata": {},
   "outputs": [],
   "source": [
    "txt_age = input(\"Quel est ton âge ? \")\n",
    "age = int(txt_age)\n",
    "majorite = 18.0 - age\n",
    "texte = \"Tu seras majeur dans \" + str(majorite)+ \" ans\"\n",
    "print(texte)"
   ]
  },
  {
   "cell_type": "markdown",
   "metadata": {},
   "source": [
    "<u>ligne 1 :</u> on pose une question à l'utilisateur. La réponse (qui est une chaîne de caratères) est stockée dans la variable `txt_age`.\n",
    "\n",
    "<u>ligne 2 :</u> on convertit la chaîne de caratères en **nombre entier**, à l'aide de la fonction `int()`. Le résultat, qui est un entier est stocké dans la variable numérique `age`.\n",
    "\n",
    "<u>ligne 3 :</u> on fait une soustraction `18.0 - age` Le résultat est stocké dans la variable numérique `majorite`.\n",
    "\n",
    "<u>ligne 4 :</u> on fabrique la **chaîne de caratères** `texte` en **concaténant** plusieurs chaînes de caractères. Il faut remarquer que l'on convertit la variable `majorite` en chaîne de caractères avec la fonction `str(majorite)`\n",
    "\n",
    "<u>ligne 5:</u> on affiche le contenu de la variable `texte` à l'écran."
   ]
  },
  {
   "cell_type": "markdown",
   "metadata": {},
   "source": [
    "<u>**Remarque :**</u> si, quand on lui demande son âge, la personne saisi par exemple `15,5` pour dire qu'elle a 15 ans et demi, le programme renvoie une erreur ! <br/>\n",
    "<center><b>Essayer !</b></center> <br/>\n",
    "    \n",
    "```python\n",
    "ValueError: invalid literal for int() with base 10: '15.5'\n",
    "```\n",
    "<br/> Autrement dit, 15.5 n'est pas convertible en entier. Pour \"gérer\" des âges avec des parties fractionnaires, il faut convertir l'âge en flottant. <br/><br/>\n",
    "<center>Essayer le programme ci-dessous avec 15.5 ou 19.5 :</center> <br/>"
   ]
  },
  {
   "cell_type": "code",
   "execution_count": null,
   "metadata": {},
   "outputs": [],
   "source": [
    "txt_age = input(\"Quel est ton âge ? \")\n",
    "age = float(txt_age)\n",
    "majorite = 18.0 - age\n",
    "texte = \"Tu seras majeur dans \" + str(majorite)+ \" ans\"\n",
    "print(texte)"
   ]
  },
  {
   "cell_type": "markdown",
   "metadata": {},
   "source": [
    "<br/> <br/>\n",
    "<i>**<u>Astuce :</u>** Pour connaître le type d'une variable (entier, flottant, chaine de caratère, ..., on dispose de la fonction `type()` qui peut s'avérer pratique quand on met au point un programme. Les erreurs de `type` sont très fréquentes ... <br/>\n",
    "On remarque que \"chaîne de caratère\", en anglais se dit `\"string\"` diminutif `str`.<br/> \n",
    "On remarque que \"flottant\" (nombre non entier), en anglais se dit `\"float\".`<br/>`int` est un nombre entier. </i>\n"
   ]
  },
  {
   "cell_type": "code",
   "execution_count": null,
   "metadata": {},
   "outputs": [],
   "source": [
    "print(type(txt_age),type(age),type(majorite),type(texte))"
   ]
  },
  {
   "cell_type": "markdown",
   "metadata": {},
   "source": [
    "<br/> <br/>Q 1.2.4) <b> <u> J'écris du code :</u> </b> \n",
    "Je veux réaliser la somme, la différence, le produit et le quotient de deux nombres saisis par l'utilisateur. <br/>\n",
    "Le programme doit demander la saisie d'un premier nombre et le convertir en flottant. <br/>\n",
    "Puis il doit demander la saisie du deuxième nombre et le convertir en flottant. <br/>\n",
    "Ensuite le programme doit afficher les 4 opérations avec leur résultat, par exemple : <br/>\n",
    "\n",
    ">`Le résultat de 12.5 + 7.2 est 19.7`<br/>\n",
    ">`Le résultat de 12.5 - 7.2 est 5.3`<br/>\n",
    ">`Le résultat de 12.5 x 7.2 est 90.0`<br/>\n",
    ">`Le résultat de 12.5 / 7.2 est 1.7361111111111112`<br/>\n",
    "\n",
    "**Tester, compléter et corriger le programme :**\n"
   ]
  },
  {
   "cell_type": "code",
   "execution_count": null,
   "metadata": {},
   "outputs": [],
   "source": []
  },
  {
   "cell_type": "code",
   "execution_count": null,
   "metadata": {},
   "outputs": [],
   "source": [
    "txt_a = input(\"Entrer votre premier nombre : \")\n",
    "a = float\n",
    "txt_b = input(\"Entrer votre second nombre : \")\n",
    "b\n",
    "texte = \"Le résultat de\"\n",
    "print\n",
    "print\n",
    "print\n",
    "print"
   ]
  },
  {
   "cell_type": "markdown",
   "metadata": {},
   "source": [
    "<h2> <u> 2 - Répétitions dans un programme : Tests et Boucles  </u> </h2>"
   ]
  },
  {
   "cell_type": "markdown",
   "metadata": {},
   "source": [
    "### 2.1 - Structure conditionnelle : comment faire un test ?"
   ]
  },
  {
   "cell_type": "markdown",
   "metadata": {},
   "source": [
    "Q 2.1.1) Dans un programme on souhaite parfois faire des tests : <br/>\n",
    ">`si \"ceci est vrai\"`<br/>\n",
    ">`alors \"on fait ceci\"`<br/>\n",
    ">`sinon \"on fait cela\"`<br/>\n",
    "\n",
    "En Python une structure conditionnelle est introduite par le mot clé `if` dont la syntaxe est : <br/>\n",
    "```python\n",
    "if condition :\n",
    "    bloc instructions\n",
    "``` \n",
    "`Condition` est une expression dont le résutat est soit vrai `true` soit faux `false`. Si la condition est vraie, le bloc est exécuté."
   ]
  },
  {
   "cell_type": "markdown",
   "metadata": {},
   "source": [
    ">Les points importants sont :\n",
    ">- **les deux points après la condition**\n",
    ">- **le décalage à droite ou `indentation` du bloc d'instruction à exécuter**"
   ]
  },
  {
   "cell_type": "markdown",
   "metadata": {},
   "source": [
    "Par exemple reprenons le cas de l'exemple de Q 1.2.3) où on demande l'âge de la personne et on affiche dans combien de d'années elle sera majeure. <br/> \n",
    "Si la personne a plus de 18 ans, elle est déjà majeure, donc, dans ce cas il ne faut rien afficher. <br/> \n",
    "\n",
    "tester plusieurs fois le programme suivant en donnant des âges en-dessous et au-dessus de 18 ans :"
   ]
  },
  {
   "cell_type": "code",
   "execution_count": null,
   "metadata": {},
   "outputs": [],
   "source": [
    "txt_age = input(\"Quel est ton âge ? \")\n",
    "age = int(txt_age)\n",
    "majorite = 18.0 - age\n",
    "if majorite > 0 :\n",
    "    texte = \"Tu seras majeur dans \" + str(majorite)+ \" ans\"\n",
    "    print(texte)"
   ]
  },
  {
   "cell_type": "markdown",
   "metadata": {},
   "source": [
    "Dans le cas où la condition est fausse, on peut utiliser le mot `else` avec la syntaxe suivante :<br/>\n",
    "```python\n",
    "if condition :\n",
    "    bloc instructions\n",
    "else :\n",
    "    bloc instructions\n",
    "``` \n",
    "\n",
    "Par exemple toujours dans notre exemple de Q 1.2.3), si la personne est majeure on peut lui afficher un message : <br/>\n",
    "`Tu es majeur depuis .... ans`\n",
    "<br/><br/><center>Essayer le programme ci-dessous avec différentes valeurs : 15.5 puis 19.5 puis ... 18 </center> "
   ]
  },
  {
   "cell_type": "code",
   "execution_count": null,
   "metadata": {},
   "outputs": [],
   "source": [
    "txt_age = input(\"Quel est ton âge ? \")\n",
    "age = float(txt_age)\n",
    "majorite = 18.0 - age\n",
    "if majorite > 0 :\n",
    "    texte = \"Tu seras majeur dans \" + str(majorite)+ \" ans\"\n",
    "else :\n",
    "    texte = \"Tu est majeur depuis \" + str(abs(majorite))+ \" ans\"\n",
    "print(texte)    "
   ]
  },
  {
   "cell_type": "markdown",
   "metadata": {},
   "source": [
    "Dans le cas où on saisit 18 ans, la réponse n'est pas géniale. Il faudrait plutôt afficher un message du type :<br/>\n",
    "`Félicitations, tu es majeur !\"`<br/><br/>\n",
    "Pour cela on va utiliser un bloc d'instructions `imbriquées` à l'aide du mot clé `elif` qui est un raccourci de `else if`. La syntaxe à utiliser est la suivante. <br/>\n",
    "```python\n",
    "if condition 1 :\n",
    "    bloc instructions\n",
    "elif condition 2 :\n",
    "    bloc instructions\n",
    "elif  ... :\n",
    "    \n",
    "else :\n",
    "    bloc instructions   \n",
    "``` \n",
    "<br/>Dans notre exemple cela devient :"
   ]
  },
  {
   "cell_type": "code",
   "execution_count": null,
   "metadata": {},
   "outputs": [],
   "source": [
    "txt_age = input(\"Quel est ton âge ? \")\n",
    "age = float(txt_age)\n",
    "majorite = 18.0 - age\n",
    "if majorite > 0 :\n",
    "    texte = \"Tu seras majeur dans \" + str(majorite)+ \" ans\"\n",
    "elif majorite == 0 :\n",
    "    texte = \"Félicitations, tu es majeur !\"\n",
    "else :\n",
    "    texte = \"Tu est majeur depuis \" + str(abs(majorite))+ \" ans\"\n",
    "print(texte) "
   ]
  },
  {
   "cell_type": "markdown",
   "metadata": {},
   "source": [
    ">Important, les opérateurs de comparaison sont :\n",
    ">- **> pour supérieur**\n",
    ">- **>= pour supérieur ou égal**\n",
    ">- **< pour inférieur**\n",
    ">- **<= pour inférieur ou égal**\n",
    ">- **== pour tester l'égalité**\n",
    ">- **!= pour différent de**"
   ]
  },
  {
   "cell_type": "markdown",
   "metadata": {},
   "source": [
    "<br/>Q 2.1.2) <b> <u> J'écris du code :</u>  Programmer un radar pédagogique</b> \n",
    "Le radar mesure et enregistre la vitesse des véhicules (ici il faudra la saisir au clavier avec un `input`).<br/>\n",
    "La vitesse sur la portion considérée est limitée à 70 km / h.\n",
    "Selon la vitesse du véhicule le radar doit afficher <u>\" Bonne Route ! \"</u> si la limitation est respectée et <u>\" Ralentir ! \"</u> si elle est dépassée.\n",
    "Vous devez écrire et tester le programme Python de ce  radar.\n",
    "\n",
    "**Tester, compléter et corriger le programme :**"
   ]
  },
  {
   "cell_type": "code",
   "execution_count": null,
   "metadata": {},
   "outputs": [],
   "source": [
    "vitesse_voiture =       (input(\"Vitesse mesurée par le radar : \"))\n",
    "vitesse_limite = 70.0\n",
    "\n",
    "if                                 :\n",
    "    \n"
   ]
  },
  {
   "cell_type": "markdown",
   "metadata": {},
   "source": [
    "Q 2.1.3) Question subsidiaire (optionnelle) :"
   ]
  },
  {
   "cell_type": "code",
   "execution_count": null,
   "metadata": {},
   "outputs": [],
   "source": []
  },
  {
   "cell_type": "markdown",
   "metadata": {},
   "source": [
    "### 2.2 - Répétition la boucle while"
   ]
  },
  {
   "cell_type": "markdown",
   "metadata": {},
   "source": [
    "Q 2.2.1) Notre programme précédent s'exécute une fois, puis s'arrête. Il faut le relancer manuellement pour recommencer. <br/>\n",
    "On souhaiterait que ce programme recommence tant qu'on le souhaite.<br/><br/>\n",
    "Pour cela il existe en Python une `boucle non bornée` c'est à dire qu'**on ne connait pas à l'avance le nombre de fois qu'il faut l'exécuter**. <br/>\n",
    "A chaque \"tour\" de boucle, on teste une condition et cela permet de décider si on exécute à nouveau les instructions de la boucle ou si on sort de la boucle. <br/><br/>\n",
    "En langage algorithmique cela s'écrit : <br/>\n",
    ">`tant que \"ceci est vrai\"`<br/>\n",
    ">`répéter \"instructions\"`<br/>\n",
    "\n",
    "En Python l'instruction correspondante est `while` qui sigifie `tant que`dont la syntaxe est : <br/>\n",
    "```python\n",
    "while condition :\n",
    "    bloc instructions\n",
    "``` \n",
    "`Condition` est une expression dont le résutat est soit vrai `true` soit faux `false`. Si la condition est vraie, le bloc est exécuté.\n",
    "\n",
    "**<u>Attention : Comme pour le if - elif - else  il faut respecter :**</u>\n",
    ">- **les deux points après la condition**\n",
    ">- **le décalage à droite ou `indentation` du bloc d'instruction à exécuter**"
   ]
  },
  {
   "cell_type": "markdown",
   "metadata": {},
   "source": [
    "Q 2.2.2) Par exemple reprenons notre exemple de Q 2.1.1) où on demande l'âge de la personne et on affiche dans combien de d'années elle sera majeure. <br/> \n",
    "\n",
    "tester plusieurs fois le programme suivant en donnant des âges en-dessous et au-dessus de 18 ans :"
   ]
  },
  {
   "cell_type": "code",
   "execution_count": null,
   "metadata": {},
   "outputs": [],
   "source": [
    "txt_age = input(\"Quel est ton âge ? \")\n",
    "age = float(txt_age)\n",
    "while age > 0 :\n",
    "    majorite = 18.0 - age\n",
    "    if majorite > 0 :\n",
    "        texte = \"Tu seras majeur dans \" + str(majorite)+ \" ans\"\n",
    "    elif majorite == 0 :\n",
    "        texte = \"Félicitations, tu es majeur !\"\n",
    "    else :\n",
    "        texte = \"Tu est majeur depuis \" + str(abs(majorite))+ \" ans\"\n",
    "    print(texte)\n",
    "    txt_age = input(\"Quel est ton âge ? \")\n",
    "    age = float(txt_age)"
   ]
  },
  {
   "cell_type": "markdown",
   "metadata": {},
   "source": [
    "<br/>Q 2.2.3) <b> <u> J'écris du code :</u>  Programmer un radar pédagogique</b> \n",
    "Reprenez votre exemple (copier - coller) réalisé à la question Q 2.1.2) afin qu'il boucle jusqu'à ce que … c'est à vous de trouver une condition de sortie.<br/>\n",
    "La solution n'est pas unique, mais le résultat doit être logique et cohérent. Faites beaucoup de tests pour mettre votre programme à l'épreuve ... <br/>\n",
    "et ... attention aux `:` et aux `indentations` ... ! <br/>\n",
    "\n",
    "**Ecire et teste votre programme ci-dessous :**"
   ]
  },
  {
   "cell_type": "code",
   "execution_count": null,
   "metadata": {},
   "outputs": [],
   "source": [
    "# votre programme radar automatisé\n"
   ]
  },
  {
   "cell_type": "markdown",
   "metadata": {},
   "source": [
    "<br/>Q 2.2.4) Tester le code ci-dessous : il a un gros problème si on analyse son contenu. Une chose très importante a été oubliée ... <br/>\n",
    "\n",
    "**Sauriez-vous expliquer ce qui ne va pas**"
   ]
  },
  {
   "cell_type": "code",
   "execution_count": null,
   "metadata": {},
   "outputs": [],
   "source": [
    "i = 5\n",
    "print(\"ce programme réalise le produit de deux nombres saisis par l'utilisateur :\")\n",
    "print(\"\")\n",
    "while i > 0 :\n",
    "    a = float(input(\"Nombre a :\"))\n",
    "    b = float(input(\"Nombre b :\"))\n",
    "    print(\"le produit\",a,' x',b,' =', a*b)\n",
    "    "
   ]
  },
  {
   "cell_type": "markdown",
   "metadata": {},
   "source": [
    "**Sauriez-vous proposer une version corrigée ...**"
   ]
  },
  {
   "cell_type": "code",
   "execution_count": null,
   "metadata": {},
   "outputs": [],
   "source": [
    "# votre programme corrigé - copier / coller le code précédent pour ne pas tout retaper \n"
   ]
  },
  {
   "cell_type": "markdown",
   "metadata": {},
   "source": [
    "### 2.3 - Répétition  : la boucle for"
   ]
  },
  {
   "cell_type": "markdown",
   "metadata": {},
   "source": [
    "Q 2.3.1) Lorsque nous savons combien de `répétitions` sont nécessaires, nous utilisons une boucle dite `bornée`, c'est à dire que, dés le départ, le nombre de `\"tours de boucle\"` est fixé. <br/>\n",
    "<br/><br/>\n",
    "En langage algorithmique cela s'écrit : <br/>\n",
    ">**pour** variable **allant de** indice_départ  <b>à</b> indice_fin  **répéter**<br/>\n",
    ">`\"instructions\"`<br/>\n",
    "\n",
    "En Python l'instruction correspondante est `for` qui sigifie `pour`dont la syntaxe est : <br/>\n",
    "```python\n",
    "for indice in range(debut,fin) :\n",
    "    bloc instructions\n",
    "``` \n",
    "`indice` est une variable qui va prendre successivement les valeurs comprises entre `debut` et `fin-1`. \n",
    "\n",
    "**<u>On remarque toujours la présence :**</u>\n",
    ">- **des deux points après la fin de la ligne de commande du for**\n",
    ">- **le décalage à droite ou `indentation` du bloc d'instruction à exécuter**\n"
   ]
  },
  {
   "cell_type": "markdown",
   "metadata": {},
   "source": [
    "essayer les exemples suivants :"
   ]
  },
  {
   "cell_type": "code",
   "execution_count": null,
   "metadata": {},
   "outputs": [],
   "source": [
    "# exemple 1\n",
    "for i in range(4) :\n",
    "    print(i)"
   ]
  },
  {
   "cell_type": "code",
   "execution_count": null,
   "metadata": {},
   "outputs": [],
   "source": [
    "# exemple 2\n",
    "for i in range(1,4) :\n",
    "    print(i)"
   ]
  },
  {
   "cell_type": "code",
   "execution_count": null,
   "metadata": {},
   "outputs": [],
   "source": [
    "# exemple 3\n",
    "for i in range(1,11,2) :\n",
    "    print(i)"
   ]
  },
  {
   "cell_type": "code",
   "execution_count": null,
   "metadata": {},
   "outputs": [],
   "source": [
    "# tester vos boucles ici ..."
   ]
  }
 ],
 "metadata": {
  "kernelspec": {
   "display_name": "Python 3",
   "language": "python",
   "name": "python3"
  },
  "language_info": {
   "codemirror_mode": {
    "name": "ipython",
    "version": 3
   },
   "file_extension": ".py",
   "mimetype": "text/x-python",
   "name": "python",
   "nbconvert_exporter": "python",
   "pygments_lexer": "ipython3",
   "version": "3.7.3"
  }
 },
 "nbformat": 4,
 "nbformat_minor": 2
}
