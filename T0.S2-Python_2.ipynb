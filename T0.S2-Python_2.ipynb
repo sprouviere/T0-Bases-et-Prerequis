{
 "cells": [
  {
   "cell_type": "markdown",
   "metadata": {},
   "source": [
    "<p><img src=\"img/python-logo.png\" /> </p> <h1> <center> Découvrir Python - Partie 2</center> </h1> <br>\n",
    "<h2><center> Visualiser la station spatiale internationale en temps réel </center></h2>\n"
   ]
  },
  {
   "cell_type": "markdown",
   "metadata": {},
   "source": [
    "<h2> <u> 3 - Modules - fonctions - types complexes :</u>  </h2>"
   ]
  },
  {
   "cell_type": "markdown",
   "metadata": {},
   "source": [
    "Python a ceci de génial pour un programmeur : c'est qu'il dispose de plusieurs centaines (peut-être même des milliers) de librairies librement téléchargeables et contenant des outils simple à utiliser pour faire une foule de choses. <br/>\n",
    "Parmi ces outils, certains vont particulièrement nous intéresser cette année, ceux qui permettent de `manipuler et traiter des images`, manipuler et traiter des données GPS pour de la `la cartographie`, manipuler des outils `mathématique`, ... <br/> <br/>\n",
    "Avec l'aide de ces outils puissants, et très peu d'instrustuctions on arrive très rapidement à faire des choses super ! <br/>\n",
    "Voyons un peu ceci sur un exemple pour comprendre comment on manipule ce type d'outil et comment on utiise la documentation `en anglais !!!` pour trouver de l'aide."
   ]
  },
  {
   "cell_type": "markdown",
   "metadata": {},
   "source": [
    "### 3.1 - Trouver la position de la station spatiale internationale en temps réel"
   ]
  },
  {
   "cell_type": "markdown",
   "metadata": {},
   "source": [
    "La [Station Spatiale Internationale (ISS)](https://fr.wikipedia.org/wiki/Station_spatiale_internationale) est un gigantesque laboratoire scientifique en orbite autour de la Terre.\n",
    "Son équipage a pour mission de réaliser des expériences qui ne peuvent être faites que dans l'espace (traitement contre le cancer, recherche de matière noire, potager dans l'espace ... [ voir la liste ici](https://www.nasa.gov/mission_pages/station/research/experiments/experiments_by_name.html).<br/>\n",
    "L'ISS fait 16 fois le tour du monde en 24h (à la vitesse de 8km par seconde) donc difficile de savoir où elle se trouve à un instant donné ... <br/>\n",
    "Nous allons réaliser un petit code un code pour tracer, en temps réel, sa position sur une carte. <br/><br/>\n",
    "Pour cela nous allons utiliser l'`API` \"People In Space\". Un `API` ou `Application Programming Interface` c'est à dire `Interface de programmation d'application` fournit une interface, autrement dit des outils, pour connecter différentes applications entre elles. <br/>\n",
    "Par exemple, si, sur son site web on veut intéger un système de paiement en utilisant le système Paypal, l'API Paypal fournit l'interface (la boite à outils) qui permet de se connecter à leur site. <br/><br/>\n",
    "L'`API` [\"People In Space\"](http://api.open-notify.org/) fait partie du projet \"open source\" appelé `open-notify.org` sur lequel de certaines données de la `NASA` sont librement accessibles. On y trouve des données comme : <br/>\n",
    "- la position courante de l'ISS (Station Spaciale Internationale)\n",
    "- la prédiction d'être survolé par l'ISS\n",
    "- le nombre de personnes dans l'espace\n",
    "\n",
    "<u>remarque </u>: Par ailleurs, la Nasa fournit de nombreux logiciels [librement accessibles](https://code.nasa.gov/?q=python) et développés avec et pour Python.\n",
    "<br/><br/>\n",
    "**Dans cette partie nous allons utiliser les données qui positionnent la station spaciale internationale**. Ces données sont stockées dans un fichier qui est mis à jour en **temps réel** par NASA. <br/>\n",
    "Elles sont de type texte au format [JSON](https://www.json.org/json-fr.html). Ces données sont à l'adresse : [http://api.open-notify.org/astros.json](http://api.open-notify.org/astros.json)"
   ]
  },
  {
   "cell_type": "markdown",
   "metadata": {},
   "source": [
    "### 3.2 - Télécharger les données : librairie requests"
   ]
  },
  {
   "cell_type": "markdown",
   "metadata": {},
   "source": [
    "La première chose que nous devons faire dans notre programme Python est de trouver le fichier JSON sur internet et le lire. <br/><br/> Pour cela il faut que le programme python se comporte comme un navigateur qui envoie une `requête 'http'` à l'adresse du serveur [http://api.open-notify.org/astros.json](http://api.open-notify.org/astros.json) pour récupérer les données contenues dans le fichier.<br/><br/>\n",
    "<u>Tester plusieurs fois le programme suivant pour voir la position GPS changer :</u>"
   ]
  },
  {
   "cell_type": "code",
   "execution_count": null,
   "metadata": {},
   "outputs": [],
   "source": [
    "import requests  # importation de la librairie Python\n",
    "\n",
    "# Attention il faut être connecté à internet siono : EREUR\n",
    "url = 'http://api.open-notify.org/iss-now.json'\n",
    "requete_http = requests.get(url)\n",
    "contenu_json = requete_http.json() \n",
    "print(contenu_json)\n",
    "          "
   ]
  },
  {
   "cell_type": "markdown",
   "metadata": {},
   "source": [
    "**<u> Explications </u>:** <br/>\n",
    "La librairie `requests` est uune librairie Python qui fait office de client HTTP comme un navigateur web. Avant de l'utiliser il faut l'importer, c'est ce que fait l'instruction :\n",
    "```python\n",
    "import requests \n",
    "```\n",
    "Ensuite, pour lire une page web 'http:\\\\ ....\", le navigateur envoie une requête `get` au serveur qui héberge le site à l'adresse de la page, ce que nous allons faire avec les instructions :\n",
    "```python\n",
    "url = 'http://api.open-notify.org/iss-now.json'\n",
    "requete_http = requests.get(requete)\n",
    "contenu_json = requete_http.json() \n",
    "print(contenu_json)\n",
    "```\n",
    "**<u> Explications </u>:** <br/>\n",
    ">1. ligne 4 : `url` est une variable qui contient l'adresse du site <br/><br/>\n",
    ">2. ligne 5 :`requests.get(url)` envoie une requête http à l'adresse de `url`. <br/>\n",
    "**Précision Python : Remarquer le `.` entre `requests` et `get`** dans l'instruction `requests.get(url)`. **C'est ainsi qu'on appelle la fonction d'une librairie**, ici la méthode `get` de la librairie `requests` , en uilisant un `.` entre les 2. Nous retrouverons ceci à de très nombreuses reprises. <br/> Entre les `( ) ` on place les  **paramètres on dit aussi arguments**, ici la variable  `url`. **<br/>Le résultat** de la requete (le contenu de la page web correspondante) est placé dans la variable `requete_http`<br/><br/>\n",
    ">3. ligne 6 : Sur `requete_http` on applique la méthode `json()`. <br/> **Précision Python : remarquer encore une fois le . entre les 2** dans `requete_http.json()`. C'est ainsi qu'on applique une **méthode sur une variable, en uilisant un `.` entre la variable et la méthode qu'on lui applique.** <br/>Remarquer la présence des `( )` après le nom de la méthode. Il y a parfois des **paramètres ou arguments** à placer entre elles.\n",
    "<br/>Le résultat est placé dans la **variable** `contenu_json`.\n",
    "<br/> L'instruction : `requete_http.json()` interprète le contenu de la page avec le format json.<br/><br/>\n",
    ">4. ligne 7 : On affiche la variable `contenu_json`. il s'agit d'une variable de type `dictionnaire` (voir partie 3.3) que l'on reconnait par ses `{ }`. Un `dictionnaire` est un objet qui contient d'autres objets. <br/> \n",
    "```pyhton\n",
    "{'timestamp': 1561398328, 'message': 'success', 'iss_position': {'longitude': '-30.9790', 'latitude': '-5.2325'}}\n",
    "```\n",
    "Les objets dans le dictionnaire sont séparés par des `,`"
   ]
  },
  {
   "cell_type": "markdown",
   "metadata": {},
   "source": [
    "### 3.3  Les types liste ou  tableau, tuple et dictionnaire :\n",
    "Python dispose de plusieurs type pour gérer des ensembles de données, constantes comme variables, et potentiellement de différents types. Ce sont de véritables couteaux Suisses que l'on peut utiliser dans tous les domaines de l'informatique.  \n",
    "Ici nous ne faisons qu'une première présentation d'introduction à ces types : le minimum vital pour pouvoir les utiliser. Nous les retrouverons de façons plus exhaustive et explicite dans de nombreux domaines d'applications..."
   ]
  },
  {
   "cell_type": "markdown",
   "metadata": {},
   "source": [
    "* ### Les listes :\n",
    "Une liste ou tableau est un ensemble d'éléments qui peuvent être de **différents types**. Une liste se définit à l'aide des crochets `[` et `]` et en séparant les éléments entre eux par des ` , `. Une liste vide est symbolisée par `[ ]`.  \n",
    "L'accès à un élément de la liste se fait en **donnant son index** : Remarquer que **le premier élément de la liste a pour indice `0`**."
   ]
  },
  {
   "cell_type": "code",
   "execution_count": null,
   "metadata": {},
   "outputs": [],
   "source": [
    "maListe=[3.14, \"cours SNT\", float('3.1548'), 5]\n",
    "print(maListe[0], maListe[1], type(maListe))"
   ]
  },
  {
   "cell_type": "markdown",
   "metadata": {},
   "source": [
    "On remarque \n",
    "Pour ajouter un élément à une liste on utilise la méthode `append()` :"
   ]
  },
  {
   "cell_type": "code",
   "execution_count": null,
   "metadata": {},
   "outputs": [],
   "source": [
    "maListe.append(\"toto\")\n",
    "print(maListe)"
   ]
  },
  {
   "cell_type": "markdown",
   "metadata": {},
   "source": [
    "On peut modifier un élément en particulier :"
   ]
  },
  {
   "cell_type": "code",
   "execution_count": null,
   "metadata": {},
   "outputs": [],
   "source": [
    "maListe[4]=\"titi\"\n",
    "print(maListe)"
   ]
  },
  {
   "cell_type": "code",
   "execution_count": null,
   "metadata": {},
   "outputs": [],
   "source": [
    "# tester vos instructions ici ..."
   ]
  },
  {
   "cell_type": "markdown",
   "metadata": {},
   "source": [
    "* ### Les tuples \n",
    "Les tuples sont des listes particulières, **on ne peux pas les modifier**. Ils sont définis par des parenthèses et leurs éléments sont accessibles de la même manière que pour les listes **en utilisant `[` n° de l'élément `]`** .  \n",
    "Notez que pour lever toute ambiguïté, un tuple ne contenant qu'un seul élément sera noté (élément,)."
   ]
  },
  {
   "cell_type": "code",
   "execution_count": null,
   "metadata": {},
   "outputs": [],
   "source": [
    "monTuple=(3.14, \"cours SNT\", float('3.1548'), 5)\n",
    "print(monTuple[2], type(monTuple))\n",
    "print(len(monTuple))"
   ]
  },
  {
   "cell_type": "markdown",
   "metadata": {},
   "source": [
    "`On ne peut pas modifier un tuple` , si on tente on obtient une erreur :"
   ]
  },
  {
   "cell_type": "code",
   "execution_count": null,
   "metadata": {},
   "outputs": [],
   "source": [
    "monTuple[1]=\"toto\"\n",
    "monTuple"
   ]
  },
  {
   "cell_type": "markdown",
   "metadata": {},
   "source": [
    "On peut **convertir une liste en tuple** :"
   ]
  },
  {
   "cell_type": "code",
   "execution_count": null,
   "metadata": {},
   "outputs": [],
   "source": [
    "monNouveauTuple = tuple(maListe)\n",
    "print(monNouveauTuple, type(monNouveauTuple))"
   ]
  },
  {
   "cell_type": "markdown",
   "metadata": {},
   "source": [
    "Et inversement, on peut **convertir un tuple en liste** :"
   ]
  },
  {
   "cell_type": "code",
   "execution_count": null,
   "metadata": {},
   "outputs": [],
   "source": [
    "maNouvelleListe = list(monTuple)\n",
    "print(maNouvelleListe, type(maNouvelleListe))"
   ]
  },
  {
   "cell_type": "code",
   "execution_count": null,
   "metadata": {},
   "outputs": [],
   "source": [
    "# tester vos instructions ici ..."
   ]
  },
  {
   "cell_type": "markdown",
   "metadata": {},
   "source": [
    "* ### Les dictionnaires\n",
    "Un dictionnaire est une liste où l'accès aux éléments se fait à l'aide d'une **clé alphanumérique ou purement numérique**. Il s'agit d'une association clé/valeur sous la forme **_clé:valeur_**.  \n",
    "Les dictionnaires sont définis a l'aide des **accolades** : ` {` ` }`."
   ]
  },
  {
   "cell_type": "code",
   "execution_count": null,
   "metadata": {},
   "outputs": [],
   "source": [
    "monDictionnaire = {'zero': 0, 'un': 1.000, 'deux': 2,'trois': 'valeur de la clé trois'}\n",
    "print(monDictionnaire['zero'])\n",
    "print(monDictionnaire['trois'])\n",
    "type(monDictionnaire)\n",
    "print(len(monDictionnaire))"
   ]
  },
  {
   "cell_type": "code",
   "execution_count": null,
   "metadata": {},
   "outputs": [],
   "source": [
    "# tester vos instructions ici ...\n",
    "rep_bis = {'nom':'MARTIN', 'prenom':'Alex', 'date_nais':{'j_nais':29 ,'mois_nais':2,\n",
    "                'an_nais':1992},'profession':'Informaticien' }\n",
    "print(rep_bis)\n",
    "print(rep_bis['prenom'],rep_bis['nom'])\n",
    "print('né le : ',rep_bis['date_nais']['j_nais'], '/',  rep_bis['date_nais']['mois_nais'] ,\n",
    "          '/', rep_bis['date_nais']['an_nais'])\n"
   ]
  },
  {
   "cell_type": "markdown",
   "metadata": {},
   "source": [
    "### 3.4 - Extraire les informations de latitude et longitude"
   ]
  },
  {
   "cell_type": "markdown",
   "metadata": {},
   "source": [
    "Le `dictionnaire` auquel on accède par la variable `contenu_json` contient les informations de `latitude` et de `longitude`  de la station spatiale au moment où la requête `get`a été faite.<br/>\n",
    "Exécuter les instructions suivantes et remarquer que les informations de latitude et longitude qui s'affichent sont identiques à celles que nous avons lues et affichées un peu plus haut.<br/>"
   ]
  },
  {
   "cell_type": "code",
   "execution_count": null,
   "metadata": {},
   "outputs": [],
   "source": [
    "pos_latitude = contenu_json['iss_position']['latitude']\n",
    "pos_longitude = contenu_json['iss_position']['longitude']\n",
    "\n",
    "print(\"Latitude = \",pos_latitude)\n",
    "print(\"Longitude = \",pos_longitude)"
   ]
  },
  {
   "cell_type": "markdown",
   "metadata": {},
   "source": [
    "**<u> Explications </u>:** <br/>\n",
    "Dans les instructions ci-dessus, nous extrayons les données de latitude et longitude qui sont contenues dans la variable appelée `contenu_json`; cette variable est, rappelons le, de type `dictionnaire`.<br/>\n",
    "Remarquer la manière avec laquelle on accède aux données de latitude et longitude dans le dictionnaire : en utilisant <b> [ </b> et <b> ] </b> et en utilisant les noms des `champs` c'est à dire `iss_position`, `latitude` et `longitude`.<br/>\n",
    "Si on affiche différemment le contenu du dictionnaire (les xxxxxxx sont des chiffres) : <br/>\n",
    "```python\n",
    "{\n",
    "    'timestamp': xxxxxxx, \n",
    "    'message': 'success', \n",
    "    'iss_position': {\n",
    "        'longitude': 'xxxxxxx', \n",
    "        'latitude': 'xxxxxxx'\n",
    "    }\n",
    "}\n",
    "```\n",
    "**Précision Python** : On remarque que **le champ** qui s'appelle `iss_position` a lui-aussi ses données **dans un dictionnaire** car `iss_position` contient des **`{ }`**.<br/>\n",
    "L'instruction ci-dessous avec <b> [ ] </b> et <b> [ ] </b>. Autrement dit **une variable de type dictionnnaire peut contenir un dictionnaire**.\n",
    "```python\n",
    "latitude = contenu_json['iss_position']['latitude']\n",
    "```\n",
    "permet de lire le dictionnaire à l'intérieur du dictionnaire la donnée `latitude`  de `iss_position`.  Le résultat est stocké dans la variable `pos_latitude`. <br/>\n",
    "de même :\n",
    "```python\n",
    "longitude = contenu_json['iss_position']['longitude']\n",
    "```\n",
    "permet de lire le dictionnaire à l'intérieur du dictionnaire la donnée `longitude`  de `iss_position`. Le résultat est stocké dans la variable `pos_longitude`.\n",
    "\n"
   ]
  },
  {
   "cell_type": "markdown",
   "metadata": {},
   "source": [
    "Q 3.4.1) Tester votre programme ci-dessous puis faites valider par le professeur :"
   ]
  },
  {
   "cell_type": "code",
   "execution_count": null,
   "metadata": {},
   "outputs": [],
   "source": [
    "# tester vos instructions ici ...\n"
   ]
  },
  {
   "cell_type": "markdown",
   "metadata": {},
   "source": [
    "Q 3.4.2) Tester votre programme ci-dessous puis faites valider par le professeur :"
   ]
  },
  {
   "cell_type": "code",
   "execution_count": null,
   "metadata": {},
   "outputs": [],
   "source": [
    "# tester vos instructions ici ...\n"
   ]
  },
  {
   "cell_type": "markdown",
   "metadata": {},
   "source": [
    "### 3.5 - Visualiser le point sur une carte"
   ]
  },
  {
   "cell_type": "markdown",
   "metadata": {},
   "source": [
    "Pour visualiser le point sur une carte, nous allons utiliser la librairie [folium](https://python-visualization.github.io/folium/quickstart.html). Folium permet de tracer des formes géométriques géolocalisées facilement.\n",
    "<p><b>Par exemple</b> pour une latitude = -45.7722 et longitude = -173.1890 le point correspond à : <img src=\"img/point_1.png\" /> </p> \n",
    "<br/><br/>\n",
    "<u>Tester le programme ci-dessous pour faire apparaître la position de l'ISS sur une carte </u> <br/> </br/>\n",
    "Si c'est tout bleu c'est que l'ISS est au dessus d'un océan ... "
   ]
  },
  {
   "cell_type": "code",
   "execution_count": null,
   "metadata": {},
   "outputs": [],
   "source": [
    "import folium \n",
    "\n",
    "point_coordonees = [float(pos_latitude), float(pos_longitude)]\n",
    "map = folium.Map(location = point_coordonees, zoom_start=5)\n",
    "folium.Marker(location = point_coordonees).add_to(map)\n",
    "map\n"
   ]
  },
  {
   "cell_type": "markdown",
   "metadata": {},
   "source": [
    "**<u> Explications </u>:** <br/>\n",
    "\n",
    "<b>1.</b> La librairie `folium` est une librairie Python Open source qui contient des `méthodes` permettant de [visualiser des données spatiales sur une carte](https://python-visualization.github.io/folium/quickstart.html) de façon interactive en utilisant les données cartographiques d'OpenStreetMap. <br/> Afin d'utiliser les `méthodes` de la librairie il faut importer celle-ci, c'est ce que fait l'instruction :\n",
    "```python\n",
    "import folium\n",
    "```\n",
    "<b>2.</b> On définit dans une variable de type `list` `[ `élément1 `,` élément2 `]`  qui a pour nom `point_coordonees` les coordonnées du point que l'on veut afficher. **élement1**  est la latitude convertie en flottant `float` et **élément2** est la longitude convertie en flottant `float` .\n",
    "```python\n",
    "point_coordinates = [float(pos_latitude), float(pos_longitude)]\n",
    "```\n",
    "<b>3.</b> On appelle la `méthode \"Map\"` de `folium` pour créer une carte appelée `map`. **On retrouve la notation déjà vue  avec le `.` entre le nom de la librairie `folium` et le nom de la méthode`Map`** .<br/> Le point central de la carte est défini par le paramètre `location`. La carte est donc centrée sur la valeur du paramètre `location` que l'on fixe égal à notre `point_coordonees`. La carte est initialisée avec un zoom `zoom_start = 5` :\n",
    "```python\n",
    "map = folium.Map(location = point_coordonees, zoom_start=5)\n",
    "```\n",
    "La valeur du zoom est comprise entre **0 = aucun zoom** et **18 = zoom_maximum**<br/><br/>\n",
    "<b>4.</b> On ajoute un marqueur en appellant la `méthode \"Marker\"` de la librairie. Le marqueur est placé au point défini par le paramètre `location` fixé égal à `point_coordonees`. Ce marqueur est ajouté sur la carte `map` en appelant la méthode `add_to`.\n",
    "```python\n",
    "folium.Marker(location = point_coordonees).add_to(map)\n",
    "```\n",
    "<b>5.</b> La dernière instruction affiche la carte à l'écran :\n",
    "```python\n",
    "map\n",
    "```"
   ]
  },
  {
   "cell_type": "markdown",
   "metadata": {},
   "source": [
    "Q 3.5.1) Tester votre programme ci-dessous puis faites valider par le professeur :"
   ]
  },
  {
   "cell_type": "code",
   "execution_count": null,
   "metadata": {},
   "outputs": [],
   "source": [
    "# tester vos instructions ici ...\n"
   ]
  },
  {
   "cell_type": "markdown",
   "metadata": {},
   "source": [
    "### 3.6 -  Ecrire et utiliser des fonctions avec Python"
   ]
  },
  {
   "cell_type": "markdown",
   "metadata": {},
   "source": [
    "Les fonctions se définissent de la façon suivante\n",
    "````Python\n",
    "def maFonction(parametre1, parametre2):\n",
    "    instructions\n",
    "    return valeur1, valeur2\n",
    "```\n",
    "\n",
    "**<u>On remarque  la présence :**</u>\n",
    ">- **des `deux points :` après la fin de la définition de la fonction**\n",
    ">- **le décalage à droite ou `indentation` des instructions à exécuter**\n",
    "\n",
    "Exemple de fonction :"
   ]
  },
  {
   "cell_type": "code",
   "execution_count": null,
   "metadata": {},
   "outputs": [],
   "source": [
    "def recherche_max(x,y):  # x et y sont les paramètres de la fonction\n",
    "    if (x > y):   # On teste si x > y\n",
    "        return x  # valeur renvoyée par la fonction si x > y est vrai\n",
    "    else :\n",
    "        return y   # valeur renvoyée par la fonction si x >y est faux"
   ]
  },
  {
   "cell_type": "markdown",
   "metadata": {},
   "source": [
    "Vous remarquerez que l'exécution de la fonction ne fait rien, il faut appeler la fonction comme ci-dessous :"
   ]
  },
  {
   "cell_type": "code",
   "execution_count": null,
   "metadata": {},
   "outputs": [],
   "source": [
    "print(recherche_max(6,3)) # on affiche le résultat de l'appel de la fonction"
   ]
  },
  {
   "cell_type": "code",
   "execution_count": null,
   "metadata": {},
   "outputs": [],
   "source": [
    "print(recherche_max(-9.5,1))"
   ]
  },
  {
   "cell_type": "markdown",
   "metadata": {},
   "source": [
    "Voici un autre exemple contenant : <br/>\n",
    "- une fonction <br/>\n",
    "- l'affichage du résultat renvoyé par l'appel à la fonction avec le paramètre \"range(11)\" <br/>\n"
   ]
  },
  {
   "cell_type": "code",
   "execution_count": null,
   "metadata": {},
   "outputs": [],
   "source": [
    "def moyenne(tab):      # tab est une liste de nombre\n",
    "    var_moy = 0        # on définit la varable de calcul de la moyenne\n",
    "    nb_tab = len(tab)  # variable contenant la taille du tableau tab\n",
    "    for i in range(nb_tab):  # on utilise une boucle pour calculer la somme\n",
    "        var_moy = var_moy + tab[i]  \n",
    "    return var_moy / nb_tab\n",
    "\n",
    "# exemple de test\n",
    "print(moyenne(range(11)))"
   ]
  },
  {
   "cell_type": "markdown",
   "metadata": {},
   "source": [
    "<b> Avez-vous compris ce que contient \"range(11)\" ? </b>\n",
    "<b> Est-ce que cette fonction est juste ? Calcule-t-elle bien la moyenne de la liste qu'on lui passe en paramètre ? </b>"
   ]
  },
  {
   "cell_type": "markdown",
   "metadata": {},
   "source": [
    "Q 3.6.1) Tester votre programme ci-dessous puis faites valider par le professeur :"
   ]
  },
  {
   "cell_type": "code",
   "execution_count": null,
   "metadata": {},
   "outputs": [],
   "source": [
    "# tester vos instructions ici ...\n"
   ]
  },
  {
   "cell_type": "markdown",
   "metadata": {},
   "source": [
    "### 3.7 - Tracé de la position à chaque instant"
   ]
  },
  {
   "cell_type": "markdown",
   "metadata": {},
   "source": [
    "pour tracer la position de l'ISS à chaque instant, il faut envoyer une requête sur l'API de façon continue. <br/><br/>\n",
    "Nous écrivons une fonction qui prend en paramètres le nombre de points, et le temps attendu entre chaque point.\n",
    "**Pour faire attendre** l'algorithme, on utilise une `librairie` de base de Python appelée `time`. Sa méthode `time.sleep()` permet de mettre en pause le déroulement de la boucle. <br/><br/>\n",
    "Lancer puis étudier le programme ci-dessous : les commentaires vont vous aider à comprendre :"
   ]
  },
  {
   "cell_type": "code",
   "execution_count": null,
   "metadata": {},
   "outputs": [],
   "source": [
    "import time  # on importe les librairies nécessaires\n",
    "import folium \n",
    "import requests\n",
    "\n",
    "def position_ISS() :  # cette fonction reprend les instructions prévédente de lecture de l'API et d'extraction \n",
    "    url = 'http://api.open-notify.org/iss-now.json'   # de ses données\n",
    "    requete_http = requests.get(url)\n",
    "    contenu_json = requete_http.json() \n",
    "\n",
    "    pos_latitude = contenu_json['iss_position']['latitude']\n",
    "    pos_longitude = contenu_json['iss_position']['longitude']\n",
    "    \n",
    "    return float(pos_latitude), float(pos_longitude)  # la fonction renvoie la position lue dans le fichier\n",
    "\n",
    "########################################################\n",
    "#   Début du programme principal\n",
    "########################################################\n",
    "positions_ISS = []  # on définit un tableau vide qui contiendra les couples de points\n",
    "temps_attente = 5    # temps d'attente en s entre deux mesures de position\n",
    "\n",
    "# nombre_de_points est une variable entière qui contient le nombre de positions à afficher\n",
    "nombre_de_points = int(input(\"Nombre de positions de l'ISS à tracer : \"))\n",
    "\n",
    "\n",
    "lat,long =  position_ISS()  # on appelle la fonction pour lire la position de l'ISS\n",
    "map = folium.Map(location = [lat,long], zoom_start=5)  # on crée la carte\n",
    "folium.Marker(location = [lat,long]).add_to(map)  # on place un marqueur sur la première position\n",
    "\n",
    "for i in range(nombre_de_points): # on fait une boucle pour le nombre de mesures à faire \n",
    "    \n",
    "    lat,long =  position_ISS()  # on appelle la fonction pour lire la position de l'ISS\n",
    "    print(\"Point n° \",i+1,\"  *** Latitude = \",lat,\"  ***  Longitude = \",long)  # un message pour faire patienter ...\n",
    "    \n",
    "    positions_ISS.append([lat,long])   # on ajoute les points les uns après les autres dans une liste voir\n",
    "        \n",
    "    time.sleep(temps_attente)  # on attend entre deux lectures du fichier de données de position de l'ISS\n",
    "    \n",
    "folium.Marker(location = [lat,long]).add_to(map)  # on place un marqueur pour la dernière position \n",
    "folium.PolyLine(positions_ISS).add_to(map)  #on trace une ligne qui rejoint tous les points\n",
    "\n",
    "map  # On affiche la carte finale avec les marqueurs et la ligne des positions\n"
   ]
  },
  {
   "cell_type": "markdown",
   "metadata": {},
   "source": [
    "<u>Remarque </u>: la librairie **folium** dont nous utilisons les fonctions de base pour la manipulation et l'affichage de cartes ne permet pas un \"rafrichissement\" permanent pour suivre en direct l'évolution de la position du satellite ; c'est un peu dommage."
   ]
  },
  {
   "cell_type": "markdown",
   "metadata": {},
   "source": [
    "Q 3.7.2) Optionnelle : Tester votre programme ci-dessous puis faites valider par le professeur :"
   ]
  },
  {
   "cell_type": "code",
   "execution_count": null,
   "metadata": {},
   "outputs": [],
   "source": [
    "# tester vos instructions ici ...\n",
    "#\n",
    "# les points à placer sont les suivants (utiliser des copier - coller pour récupérer les valeurs de longitude et\n",
    "# latitude à placer)\n",
    "# Point n°  1   *** Latitude =  47.531483333333334   ***  Longitude =  -2.30131\n",
    "# Point n°  1   *** Latitude =  47.531483333333334   ***  Longitude =  -2.30131\n",
    "# Point n°  2   *** Latitude =  47.531533333333336   ***  Longitude =  -2.3009033333333333\n",
    "# Point n°  3   *** Latitude =  47.531565   ***  Longitude =  -2.30047\n",
    "# Point n°  4   *** Latitude =  47.52126666666667   ***  Longitude =  -2.2811766666666666\n",
    "# Point n°  5   *** Latitude =  47.488865   ***  Longitude =  -2.229651666666667\n",
    "# Point n°  6   *** Latitude =  47.47551333333333   ***  Longitude =  -2.178523333333333\n",
    "# Point n°  7   *** Latitude =  47.475273333333334   ***  Longitude =  -2.1782433333333335\n",
    "# Point n°  8   *** Latitude =  47.44826166666667   ***  Longitude =  -2.1251983333333335\n",
    "# Point n°  9   *** Latitude =  47.44813166666667   ***  Longitude =  -2.124826666666667\n",
    "# Point n°  10   *** Latitude =  47.446798333333334   ***  Longitude =  -2.091188333333333\n",
    "# Point n°  11   *** Latitude =  47.43646833333333   ***  Longitude =  -2.072433333333333\n",
    "# Point n°  12   *** Latitude =  47.419203333333336   ***  Longitude =  -2.0462366666666667\n",
    "# Point n°  13   *** Latitude =  47.41254333333333   ***  Longitude =  -2.022876666666667\n",
    "# Point n°  14   *** Latitude =  47.394038333333334   ***  Longitude =  -1.9980983333333333\n",
    "# Point n°  15   *** Latitude =  47.39082666666667   ***  Longitude =  -1.9905583333333334\n",
    "# Point n°  16   *** Latitude =  47.37534333333333   ***  Longitude =  -1.9374316666666667\n",
    "# Point n°  17   *** Latitude =  47.312106666666665   ***  Longitude =  -1.7677733333333334\n",
    "# Point n°  18   *** Latitude =  47.311883333333334   ***  Longitude =  -1.7675666666666667\n",
    "# Point n°  19   *** Latitude =  47.192206666666664   ***  Longitude =  -1.6146466666666668\n"
   ]
  }
 ],
 "metadata": {
  "kernelspec": {
   "display_name": "Python 3",
   "language": "python",
   "name": "python3"
  },
  "language_info": {
   "codemirror_mode": {
    "name": "ipython",
    "version": 3
   },
   "file_extension": ".py",
   "mimetype": "text/x-python",
   "name": "python",
   "nbconvert_exporter": "python",
   "pygments_lexer": "ipython3",
   "version": "3.7.3"
  }
 },
 "nbformat": 4,
 "nbformat_minor": 2
}
