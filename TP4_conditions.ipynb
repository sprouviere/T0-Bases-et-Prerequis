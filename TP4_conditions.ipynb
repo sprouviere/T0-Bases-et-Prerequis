{
 "cells": [
  {
   "cell_type": "markdown",
   "metadata": {},
   "source": [
    "<h1 style=\"color:teal;\">Découverte des instructions if et else</h1>"
   ]
  },
  {
   "cell_type": "markdown",
   "metadata": {},
   "source": [
    "<h2 style=\"color:rgb(100, 100, 255);\">Partie I : L&apos;instruction if</h2>"
   ]
  },
  {
   "cell_type": "markdown",
   "metadata": {},
   "source": [
    "L&apos;instruction <b><font style=\"color:green;\">if</font></b> permet d&apos;avoir au sein d&apos;un programme une ou plusieurs lignes de code qui ne sont exécutées que si une ou plusieurs conditions particulières sont remplies.<br><br>\n",
    "<u>Exemple :</u> <br>\n",
    "Le code suivant permet d&apos;afficher le prix d&apos;un article sachant qu&apos;une remise de 20 € est appliquée sur le prix dès que celui-ci dépasse 100 €.<br>\n",
    "Exécuter la cellule suivante (tout en essayant de comprendre le code) pour mieux apréhender cette instruction <b><font style=\"color:green;\">if</font></b>.<br>\n",
    "Vous pouvez exécuter plusieurs la cellule, cela permet de tester différentes valeurs pour le prix."
   ]
  },
  {
   "cell_type": "code",
   "execution_count": null,
   "metadata": {
    "collapsed": true
   },
   "outputs": [],
   "source": [
    "prix=float(input(\"donner le prix de l'article \"))\n",
    "if prix > 100 :\n",
    "    prix=prix-20\n",
    "print(\"Le prix avec remise est de : \", prix, \"€\")"
   ]
  },
  {
   "cell_type": "markdown",
   "metadata": {},
   "source": [
    "<b><u>Remarques :</u></b><br>\n",
    "   -La syntaxe de cette instruction est : <b><font style=\"color:green;\">if  condition(s)  :</font></b>.<br>\n",
    "   -Il peut y avoir une ou plusieurs conditions séparées par d&apos;éventuels connecteurs logiques <b><font style=\"color:green;\">et </font></b> ou <b><font style=\"color:green;\">ou </font></b>. Cette notion sera détailler plus tard dans l&apos;année.<br>\n",
    "   -<b>Attention</b> de ne pas oublier les deux points en fin de ligne.<br>\n",
    "   -Les lignes de code liées à la (ou les) condition(s) sont écrites dans le code avec <b>une indentation</b> (un décalage vers la droite).<br><br>\n",
    "   <b><u>Explications :</u></b><br>\n",
    "   Cette indentation permet de savoir quelles sont la ou les lignes de code qui dépendent de cette condition.<br>\n",
    "   Tant que l&apos;identation est appliquée, les lignes de code sont liées à la condition (elles ne seront exécutées que si la condition est remplie).<br>\n",
    "   Lorsque l&apos;indentation n&apos;est plus appliquée, les lignes de code ne sont plus liées à la condition, c&apos;est à dire qu&apos;elles seront exécutées que la condition soit remplie ou non.<br><br>\n",
    "   Dans la cellule suivante, le code est le même que dans la cellule précédente, une indentation a cependant été ajoutée pour la dernière ligne de code.<br>\n",
    "   Essayer de comprendre ce que cela va changer dans l'exécution du code, puis exécuter ce code pour confirmer ou infirmer votre hypothèse.<br>\n",
    "   Il est à nouveau possible d&apos;exécuter ce code à plusieurs reprises pour tester différentes valeurs.<br>"
   ]
  },
  {
   "cell_type": "code",
   "execution_count": null,
   "metadata": {
    "collapsed": true
   },
   "outputs": [],
   "source": [
    "prix=float(input(\"donner le prix de l'article \"))\n",
    "if prix > 100 :\n",
    "    prix=prix-20\n",
    "    print(\"Le prix avec remise est de : \", prix, \"€\")"
   ]
  },
  {
   "cell_type": "markdown",
   "metadata": {},
   "source": [
    "<h3><span style=\"text-decoration: underline;\">Exercice 1</span></h3><br>\n",
    "Un commerçant souhaite écouler ses stocks concernant un article valant 13 €.<br>\n",
    "Il décide qu&apos;à partir de 4 article achetés l&apos;un d'entre eux sera offert (donc gratuit). C'est à dire qu&apos;un client qui décide d&apos;acheter quatre articles n&apos;en payera que trois, un autre client qui décide d&apos;acheter cinq articles n&apos;en payera que quatre ...<br><br>\n",
    "Dans la cellule suivante, remplacer les pointillés par du code pour que le programme demande à l&apos;utilisateur de renseigner le nombre d&apos;articles qu&apos;il souhaite acheter, le programme doit ensuite calculer et afficher le prix total une fois la remise éventuelle appliquée."
   ]
  },
  {
   "cell_type": "code",
   "execution_count": null,
   "metadata": {
    "collapsed": true
   },
   "outputs": [],
   "source": [
    "nbArticles=int(input(\"donner le nomnre d'articles achetés\"))\n",
    "prix = nbArticles*13\n",
    "if _ _ _ _ _ _ :\n",
    "    prix =\n",
    "print(\"le prix total est : \", _ _ _ _ _ , \" € \")"
   ]
  },
  {
   "cell_type": "markdown",
   "metadata": {},
   "source": [
    "<br><h2 style=\"color:rgb(100, 100, 255);\">Partie II : L&apos;instruction else</h2>"
   ]
  },
  {
   "cell_type": "markdown",
   "metadata": {
    "collapsed": true
   },
   "source": [
    "Il est possible d&apos;ajouter à l&apos;instruction <b><font style=\"color:green;\">if</font></b> l&apos;instruction <b><font style=\"color:green;\">else</font></b>.<br>\n",
    "Le <b><font style=\"color:green;\">else</font></b> permet d&apos;ajouter des instructions elles aussi liées à la condition sauf que ces instructions ne seront exécuter que si la condition n&apos;est pas remplie<br><br>\n",
    "<u>Exemple</u>\n",
    "Un étudiant vient de passer un examun. Pour réussir cet examun, il doit avoir une moyenne supérieure ou égale à 10.\n",
    "Le programme suivant demande à l&apos;utilisateur de renseigner sa moyenne, il indique ensuite à l&apos;élève s&apos;il a obtenu son examun ou pas.<br>\n",
    "Exécuter la cellule suivante pour mieux comprendre cette notion.\n"
   ]
  },
  {
   "cell_type": "code",
   "execution_count": null,
   "metadata": {},
   "outputs": [],
   "source": [
    "moyenne=float(input(\"donner votre moyenne \"))\n",
    "if moyenne>=10 :\n",
    "    print(\"vous avez réussi votre examun\")\n",
    "else :\n",
    "    print(\"vous avez raté votre examun\")\n",
    "print(\"au revoir\")"
   ]
  },
  {
   "cell_type": "markdown",
   "metadata": {},
   "source": [
    "<u><b>Remarques :</b></u><br>\n",
    "-Le <b><font style=\"color:green;\">else</font></b> doit être suivi de deux points.<br>\n",
    "-Le <b><font style=\"color:green;\">else</font></b> est écrit au même niveau que le <b><font style=\"color:green;\">if</font></b> qui lui correspond (l&apos;indentation est supprimée).<br>\n",
    "-Une indentation doit être appliquée sur toutes les lignes de code liées au <b><font style=\"color:green;\">else</font></b>.<br>\n",
    "-Pour \"sortir\" du else, il suffit de ne plus appliquer l&apos;identation.<br>\n",
    "-Il n&apos;y a pas de symbole \"supérieur ou égal\", on utilise donc les deux symboles : >=."
   ]
  },
  {
   "cell_type": "markdown",
   "metadata": {},
   "source": [
    "<u><b>Autre exemple :</b></u><br>\n",
    "On considère la fonction f définie par f(x)=2x-5. Le programme suivant demande à l&apos;utilisateur de renseigner une valeur de x et son image y. Le programme vérifie ensuite que l&apos;image donnée est bien celle du x qui a été renseigné.\n",
    "Exécuter ce programme tout en essayant de comprendre le code."
   ]
  },
  {
   "cell_type": "code",
   "execution_count": null,
   "metadata": {},
   "outputs": [],
   "source": [
    "x=float(input(\"donner une valeur de x : \"))\n",
    "y=float(input(\"donner l'image de votre x par la fonction f définie par f(x)=2x-5 : \"))\n",
    "vraieImage=2*x-5\n",
    "if y==vraieImage :\n",
    "    print(\"le calcul de l'image est bon\")\n",
    "else :\n",
    "    print(\"le calcul de l'image est faux\")"
   ]
  },
  {
   "cell_type": "markdown",
   "metadata": {},
   "source": [
    "<u><b>Remarques : </b></u><br>\n",
    " Lorsque l&apos;on cherche à tester si deux valeurs sonr égales, on utilise un double égal : <b><font style=\"color:green;\">==</font></b>.<br>\n",
    " Cela est dû au fait que l&apos;utilisation d&apos;un simple égal correspond au fait <b>d&apos;affecter une valeur à une variable</b>.<br><br>\n",
    " Ci dessous un tableau de correspondance entre Maths et Python pour la syntaxe des symboles utilisés pour réaliser des tests à la suite d&apos;un if.<br>\n",
    " <img src=\"symboles.png\" alt=\"image\" width=200 height=120  > "
   ]
  },
  {
   "cell_type": "markdown",
   "metadata": {},
   "source": [
    "<h3><span style=\"text-decoration: underline;\">Exercice 2</span></h3><br>\n",
    "Un loueur de VTT propose les tarifs suivants : 10 € l&apos;heure pour une location de deux heures ou moins et 8 € l'heure pour une location de plus de deux heures.<br><br>\n",
    "On souhaite construire un programme qui demande à l&apos;utilisateur le nombre d&apos;heures de location (on peut louer à la demi-heure près). Le programme doit ensuite calculer et afficher le prix de la location en tenant compte du nombre d&apos;heures renseigné.<br><br>\n",
    "Dans la cellule suivante, remplacer les pointillés par du code pour que le programme corresponde à ce qui est écrit ci-dessus. "
   ]
  },
  {
   "cell_type": "code",
   "execution_count": null,
   "metadata": {
    "collapsed": true
   },
   "outputs": [],
   "source": [
    "nbrHeures=float( _ _ _ _ _ _ _ _ _ )\n",
    "if nbrHeures _ _ _ _ _ _  :\n",
    "    prix = _ _ _ _ _ _\n",
    "else :\n",
    "    prix = _ _ _ _ _ _\n",
    "print(\"le prix est de : \", _ _ _ _ _ _ _)"
   ]
  },
  {
   "cell_type": "markdown",
   "metadata": {},
   "source": [
    "<h3><span style=\"text-decoration: underline;\">Exercice 3</span></h3><br>\n",
    "Un jeu consiste à lancer un dé à six faces. Si on tombe sur le six la partie est gagnée, dans les autres cas la partie est perdue.<br>\n",
    "Dans la cellule suivante, remplacer les pointillés par du code pour que le programme demande à l&apos;utilisateur le numéro qu&apos;il a obtenu en lançant son dé. Le programme doit ensuite afficher à l&apos;écran \"vous avez gagné\" ou \"vous avez perdu\" suivant le cas de figure."
   ]
  },
  {
   "cell_type": "code",
   "execution_count": null,
   "metadata": {
    "collapsed": true
   },
   "outputs": [],
   "source": [
    "numero = _ _ _ _ _ _ _\n",
    "if _ _ _ _ _ _ _ _ :\n",
    "    print( _ _ _ _ _ )\n",
    "_ _ _ _ _ \n",
    "    _ _ _ _ _ _ _"
   ]
  }
 ],
 "metadata": {
  "kernelspec": {
   "display_name": "Python 3 (ipykernel)",
   "language": "python",
   "name": "python3"
  },
  "language_info": {
   "codemirror_mode": {
    "name": "ipython",
    "version": 3
   },
   "file_extension": ".py",
   "mimetype": "text/x-python",
   "name": "python",
   "nbconvert_exporter": "python",
   "pygments_lexer": "ipython3",
   "version": "3.10.6"
  }
 },
 "nbformat": 4,
 "nbformat_minor": 2
}
