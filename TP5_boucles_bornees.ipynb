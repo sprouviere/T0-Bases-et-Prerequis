{
 "cells": [
  {
   "cell_type": "markdown",
   "metadata": {},
   "source": [
    "<h1 style=\"color:teal;\">Découverte de l'instruction for</h1>"
   ]
  },
  {
   "cell_type": "markdown",
   "metadata": {},
   "source": [
    "En programmation, on peut parfois avoir besoin de répéter plusieurs fois le même genre d&apos;insruction.<br>\n",
    "Plutôt que d&apos;écrire de nombreuses lignes de code presque identiques, il existe une solution pour simplifier le code en utilisant une boucle \"<b><font style=\"color:green;\">for</font></b>\".<br> \n",
    "Parfois l&apos;utilisation d&apos;une boucle est même indispensable.<br><br>\n",
    "<u><b>Exemple : </b></u><br>\n",
    "On considère la fonction f définie par f(x)=3x-7. On veut calculer les images des entiers de 1 à 10.<br>\n",
    "Il y a donc dix calculs à faire. Plutôt que d&apos;utiliser dix lignes de code, on peut utiliser une boucle \"<b><font style=\"color:green;\">for</font></b>\".<br>\n",
    "Exécuter le programme suivant tout en essayant de comprendre le code."
   ]
  },
  {
   "cell_type": "code",
   "execution_count": null,
   "metadata": {},
   "outputs": [],
   "source": [
    "for i in range(1,11):\n",
    "    y=3*i-7\n",
    "    print(\"l'image de \", i , \" est \", y)"
   ]
  },
  {
   "cell_type": "markdown",
   "metadata": {},
   "source": [
    "<u><b>Remarques : </b></u><br>\n",
    "-Lorsque l&apos;on utilise une boucle <b><font style=\"color:green;\">for</font></b>, on a besoin d&apos;un compteur de boucle qui permet de savoir combien de fois on est rentré dans la boucle. En informatique, le compteur de boucle est en règle générale une variable notée <b><font style=\"color:green;\">i</font></b> comme c&apos;est le cas ici.<br>\n",
    "-Ce compteur de boucle peut être utilisé ou non dans les lignes de code qui doivent être exéxutées en boucle. Cela permet d&apos;avoir une variable qui s&apos;incrémente (augmente de un) à chaque passage de boucle.<br>\n",
    "-Les lignes de code présentes dans la boucle doivent posséder une indentation. C&apos;est ce qui permet de faire la différence entre celles de la boucle et celles qui sont en dehors de la boucle.<br>\n",
    "\n",
    "<u><b>La fonction range() :</b></u><br>\n",
    "-range(a ,b) permet de créer une suite d'entiers de a à b-1.<br>\n",
    "a représente donc le premier entier de la liste et b représente le premier entier qui \"dépasse\" la fin de la suite.<br><br>\n",
    "-range(n) permet de créer une suite d'entiers de 0 à n-1. Autrement dit lorsque la suite que l&apos;on souhaite créer commence par 0, il n&apos;est pas nécessaire de le renseigner, seul l&apos;information de fin de liste est à renseigner.<br><br>\n",
    "<u>Exemples :</u><br>\n",
    "range(3 , 9) donne la suite : 3 ; 4 ; 5 ; 6 ; 7 ; 8<br>\n",
    "range(7 , 12) donne la suite : 7 ; 8 ; 9 ; 10 ; 11<br><br>\n",
    "<u>Exemples :</u><br>\n",
    "range(6) donne la suite : 0 ; 1 ; 2 ; 3 ; 4 ; 5<br>\n",
    "range(3) donne la suite : 0 ; 1 ; 2 <br><br>\n",
    "Exécuter le code suivant qui est identique au code précédent. Seule l'indentation de la dernière ligne a été supprimée. Essayer de comprendre ce que cela va changer, puis exécuter la cellule pour confirmer ou infirmer votre hypothèse."
   ]
  },
  {
   "cell_type": "code",
   "execution_count": null,
   "metadata": {
    "collapsed": true
   },
   "outputs": [],
   "source": [
    "for i in range(1,11):\n",
    "    y=3*i-7\n",
    "print(\"l'image de \", i , \" est \", y)"
   ]
  },
  {
   "cell_type": "markdown",
   "metadata": {},
   "source": [
    "<h3><span style=\"text-decoration: underline;\">Exercice 1</span></h3><br>\n",
    "Dans la cellule suivante, compléter les pointillés pour que le programme calcule les carrés des entiers de 2 à 12 (2<sup>2</sup>, 3<sup>2</sup>, 4<sup>2</sup> ...)"
   ]
  },
  {
   "cell_type": "code",
   "execution_count": null,
   "metadata": {
    "collapsed": true
   },
   "outputs": [],
   "source": [
    "for i in range( _ _ , _ _):\n",
    "    a = i _ _ _\n",
    "    print(\"le carré de \", _ _ ,\" est \", _ _)"
   ]
  },
  {
   "cell_type": "markdown",
   "metadata": {},
   "source": [
    "<h3><span style=\"text-decoration: underline;\">Exercice 2</span></h3><br>\n",
    "Un scientifique étudie une population de bactéries qui double tous les jours. Au départ de l&apos;expérience, la population de bactéries est de 500 000 bactéries.<br>\n",
    "Dans la cellule suivante, compléter les pointillés pour que le programme demande à l&apos;utilisateur de renseigner un nombre de jours. Le programme doit ensuite calculer puis afficher le nombre de bactéries obtenues au bout du nombre de jours donné.\n"
   ]
  },
  {
   "cell_type": "code",
   "execution_count": null,
   "metadata": {
    "collapsed": true
   },
   "outputs": [],
   "source": [
    "nbrJours = \n",
    "nbrBacteries = 500000\n",
    "for i in _ _ _ _ _ _ _\n",
    "    nbrBacteries = _ _ _ _ _ _ _ _ _\n",
    "print( _ _ _ _ _ _ )"
   ]
  },
  {
   "cell_type": "markdown",
   "metadata": {},
   "source": [
    "<h3><span style=\"text-decoration: underline;\">Exercice 3</span></h3><br>\n",
    "Dans la cellule suivante, compléter les pointillés pour que le programme affiche la table de 7 (de 7&#215;1 7&#215;10)."
   ]
  },
  {
   "cell_type": "code",
   "execution_count": null,
   "metadata": {
    "collapsed": true
   },
   "outputs": [],
   "source": [
    "for i in range( _ _, _ _):\n",
    "    a=7* _ _ \n",
    "    print(\"7*\", _ _, \" = \", _ _)"
   ]
  }
 ],
 "metadata": {
  "kernelspec": {
   "display_name": "Python 3 (ipykernel)",
   "language": "python",
   "name": "python3"
  },
  "language_info": {
   "codemirror_mode": {
    "name": "ipython",
    "version": 3
   },
   "file_extension": ".py",
   "mimetype": "text/x-python",
   "name": "python",
   "nbconvert_exporter": "python",
   "pygments_lexer": "ipython3",
   "version": "3.10.6"
  }
 },
 "nbformat": 4,
 "nbformat_minor": 2
}
